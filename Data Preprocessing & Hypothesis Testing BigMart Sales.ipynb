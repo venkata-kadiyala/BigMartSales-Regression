{
 "cells": [
  {
   "cell_type": "code",
   "execution_count": 1,
   "id": "dd2b5558",
   "metadata": {},
   "outputs": [],
   "source": [
    "# Analytics Vidhya Hackathon - Big Mart Sales "
   ]
  },
  {
   "cell_type": "code",
   "execution_count": 2,
   "id": "9ebe4a6a",
   "metadata": {},
   "outputs": [],
   "source": [
    "import pandas as pd\n",
    "import numpy as np\n",
    "import matplotlib.pyplot as plt\n",
    "%matplotlib inline"
   ]
  },
  {
   "cell_type": "code",
   "execution_count": 3,
   "id": "01dd6362",
   "metadata": {},
   "outputs": [],
   "source": [
    "#import io\n",
    "#%cd '/Users/rajeshprabhakar/Desktop/Hackathon/BigMart Sales'"
   ]
  },
  {
   "cell_type": "code",
   "execution_count": 4,
   "id": "e38246c2",
   "metadata": {},
   "outputs": [],
   "source": [
    "bigmarttrain=pd.read_csv(\"train_v9rqX0R.csv\")"
   ]
  },
  {
   "cell_type": "code",
   "execution_count": 5,
   "id": "f8bec1ec",
   "metadata": {},
   "outputs": [],
   "source": [
    "bigmarttest=pd.read_csv(\"test_AbJTz2l.csv\")"
   ]
  },
  {
   "cell_type": "code",
   "execution_count": 6,
   "id": "adde82a4",
   "metadata": {},
   "outputs": [
    {
     "data": {
      "text/html": [
       "<div>\n",
       "<style scoped>\n",
       "    .dataframe tbody tr th:only-of-type {\n",
       "        vertical-align: middle;\n",
       "    }\n",
       "\n",
       "    .dataframe tbody tr th {\n",
       "        vertical-align: top;\n",
       "    }\n",
       "\n",
       "    .dataframe thead th {\n",
       "        text-align: right;\n",
       "    }\n",
       "</style>\n",
       "<table border=\"1\" class=\"dataframe\">\n",
       "  <thead>\n",
       "    <tr style=\"text-align: right;\">\n",
       "      <th></th>\n",
       "      <th>Item_Identifier</th>\n",
       "      <th>Item_Weight</th>\n",
       "      <th>Item_Fat_Content</th>\n",
       "      <th>Item_Visibility</th>\n",
       "      <th>Item_Type</th>\n",
       "      <th>Item_MRP</th>\n",
       "      <th>Outlet_Identifier</th>\n",
       "      <th>Outlet_Establishment_Year</th>\n",
       "      <th>Outlet_Size</th>\n",
       "      <th>Outlet_Location_Type</th>\n",
       "      <th>Outlet_Type</th>\n",
       "      <th>Item_Outlet_Sales</th>\n",
       "    </tr>\n",
       "  </thead>\n",
       "  <tbody>\n",
       "    <tr>\n",
       "      <th>0</th>\n",
       "      <td>FDA15</td>\n",
       "      <td>9.30</td>\n",
       "      <td>Low Fat</td>\n",
       "      <td>0.016047</td>\n",
       "      <td>Dairy</td>\n",
       "      <td>249.8092</td>\n",
       "      <td>OUT049</td>\n",
       "      <td>1999</td>\n",
       "      <td>Medium</td>\n",
       "      <td>Tier 1</td>\n",
       "      <td>Supermarket Type1</td>\n",
       "      <td>3735.1380</td>\n",
       "    </tr>\n",
       "    <tr>\n",
       "      <th>1</th>\n",
       "      <td>DRC01</td>\n",
       "      <td>5.92</td>\n",
       "      <td>Regular</td>\n",
       "      <td>0.019278</td>\n",
       "      <td>Soft Drinks</td>\n",
       "      <td>48.2692</td>\n",
       "      <td>OUT018</td>\n",
       "      <td>2009</td>\n",
       "      <td>Medium</td>\n",
       "      <td>Tier 3</td>\n",
       "      <td>Supermarket Type2</td>\n",
       "      <td>443.4228</td>\n",
       "    </tr>\n",
       "    <tr>\n",
       "      <th>2</th>\n",
       "      <td>FDN15</td>\n",
       "      <td>17.50</td>\n",
       "      <td>Low Fat</td>\n",
       "      <td>0.016760</td>\n",
       "      <td>Meat</td>\n",
       "      <td>141.6180</td>\n",
       "      <td>OUT049</td>\n",
       "      <td>1999</td>\n",
       "      <td>Medium</td>\n",
       "      <td>Tier 1</td>\n",
       "      <td>Supermarket Type1</td>\n",
       "      <td>2097.2700</td>\n",
       "    </tr>\n",
       "    <tr>\n",
       "      <th>3</th>\n",
       "      <td>FDX07</td>\n",
       "      <td>19.20</td>\n",
       "      <td>Regular</td>\n",
       "      <td>0.000000</td>\n",
       "      <td>Fruits and Vegetables</td>\n",
       "      <td>182.0950</td>\n",
       "      <td>OUT010</td>\n",
       "      <td>1998</td>\n",
       "      <td>NaN</td>\n",
       "      <td>Tier 3</td>\n",
       "      <td>Grocery Store</td>\n",
       "      <td>732.3800</td>\n",
       "    </tr>\n",
       "    <tr>\n",
       "      <th>4</th>\n",
       "      <td>NCD19</td>\n",
       "      <td>8.93</td>\n",
       "      <td>Low Fat</td>\n",
       "      <td>0.000000</td>\n",
       "      <td>Household</td>\n",
       "      <td>53.8614</td>\n",
       "      <td>OUT013</td>\n",
       "      <td>1987</td>\n",
       "      <td>High</td>\n",
       "      <td>Tier 3</td>\n",
       "      <td>Supermarket Type1</td>\n",
       "      <td>994.7052</td>\n",
       "    </tr>\n",
       "  </tbody>\n",
       "</table>\n",
       "</div>"
      ],
      "text/plain": [
       "  Item_Identifier  Item_Weight Item_Fat_Content  Item_Visibility  \\\n",
       "0           FDA15         9.30          Low Fat         0.016047   \n",
       "1           DRC01         5.92          Regular         0.019278   \n",
       "2           FDN15        17.50          Low Fat         0.016760   \n",
       "3           FDX07        19.20          Regular         0.000000   \n",
       "4           NCD19         8.93          Low Fat         0.000000   \n",
       "\n",
       "               Item_Type  Item_MRP Outlet_Identifier  \\\n",
       "0                  Dairy  249.8092            OUT049   \n",
       "1            Soft Drinks   48.2692            OUT018   \n",
       "2                   Meat  141.6180            OUT049   \n",
       "3  Fruits and Vegetables  182.0950            OUT010   \n",
       "4              Household   53.8614            OUT013   \n",
       "\n",
       "   Outlet_Establishment_Year Outlet_Size Outlet_Location_Type  \\\n",
       "0                       1999      Medium               Tier 1   \n",
       "1                       2009      Medium               Tier 3   \n",
       "2                       1999      Medium               Tier 1   \n",
       "3                       1998         NaN               Tier 3   \n",
       "4                       1987        High               Tier 3   \n",
       "\n",
       "         Outlet_Type  Item_Outlet_Sales  \n",
       "0  Supermarket Type1          3735.1380  \n",
       "1  Supermarket Type2           443.4228  \n",
       "2  Supermarket Type1          2097.2700  \n",
       "3      Grocery Store           732.3800  \n",
       "4  Supermarket Type1           994.7052  "
      ]
     },
     "execution_count": 6,
     "metadata": {},
     "output_type": "execute_result"
    }
   ],
   "source": [
    "bigmarttrain.head()"
   ]
  },
  {
   "cell_type": "code",
   "execution_count": 7,
   "id": "008fd8ef",
   "metadata": {},
   "outputs": [
    {
     "data": {
      "text/html": [
       "<div>\n",
       "<style scoped>\n",
       "    .dataframe tbody tr th:only-of-type {\n",
       "        vertical-align: middle;\n",
       "    }\n",
       "\n",
       "    .dataframe tbody tr th {\n",
       "        vertical-align: top;\n",
       "    }\n",
       "\n",
       "    .dataframe thead th {\n",
       "        text-align: right;\n",
       "    }\n",
       "</style>\n",
       "<table border=\"1\" class=\"dataframe\">\n",
       "  <thead>\n",
       "    <tr style=\"text-align: right;\">\n",
       "      <th></th>\n",
       "      <th>Item_Identifier</th>\n",
       "      <th>Item_Weight</th>\n",
       "      <th>Item_Fat_Content</th>\n",
       "      <th>Item_Visibility</th>\n",
       "      <th>Item_Type</th>\n",
       "      <th>Item_MRP</th>\n",
       "      <th>Outlet_Identifier</th>\n",
       "      <th>Outlet_Establishment_Year</th>\n",
       "      <th>Outlet_Size</th>\n",
       "      <th>Outlet_Location_Type</th>\n",
       "      <th>Outlet_Type</th>\n",
       "    </tr>\n",
       "  </thead>\n",
       "  <tbody>\n",
       "    <tr>\n",
       "      <th>5676</th>\n",
       "      <td>FDB58</td>\n",
       "      <td>10.5</td>\n",
       "      <td>Regular</td>\n",
       "      <td>0.013496</td>\n",
       "      <td>Snack Foods</td>\n",
       "      <td>141.3154</td>\n",
       "      <td>OUT046</td>\n",
       "      <td>1997</td>\n",
       "      <td>Small</td>\n",
       "      <td>Tier 1</td>\n",
       "      <td>Supermarket Type1</td>\n",
       "    </tr>\n",
       "    <tr>\n",
       "      <th>5677</th>\n",
       "      <td>FDD47</td>\n",
       "      <td>7.6</td>\n",
       "      <td>Regular</td>\n",
       "      <td>0.142991</td>\n",
       "      <td>Starchy Foods</td>\n",
       "      <td>169.1448</td>\n",
       "      <td>OUT018</td>\n",
       "      <td>2009</td>\n",
       "      <td>Medium</td>\n",
       "      <td>Tier 3</td>\n",
       "      <td>Supermarket Type2</td>\n",
       "    </tr>\n",
       "    <tr>\n",
       "      <th>5678</th>\n",
       "      <td>NCO17</td>\n",
       "      <td>10.0</td>\n",
       "      <td>Low Fat</td>\n",
       "      <td>0.073529</td>\n",
       "      <td>Health and Hygiene</td>\n",
       "      <td>118.7440</td>\n",
       "      <td>OUT045</td>\n",
       "      <td>2002</td>\n",
       "      <td>NaN</td>\n",
       "      <td>Tier 2</td>\n",
       "      <td>Supermarket Type1</td>\n",
       "    </tr>\n",
       "    <tr>\n",
       "      <th>5679</th>\n",
       "      <td>FDJ26</td>\n",
       "      <td>15.3</td>\n",
       "      <td>Regular</td>\n",
       "      <td>0.000000</td>\n",
       "      <td>Canned</td>\n",
       "      <td>214.6218</td>\n",
       "      <td>OUT017</td>\n",
       "      <td>2007</td>\n",
       "      <td>NaN</td>\n",
       "      <td>Tier 2</td>\n",
       "      <td>Supermarket Type1</td>\n",
       "    </tr>\n",
       "    <tr>\n",
       "      <th>5680</th>\n",
       "      <td>FDU37</td>\n",
       "      <td>9.5</td>\n",
       "      <td>Regular</td>\n",
       "      <td>0.104720</td>\n",
       "      <td>Canned</td>\n",
       "      <td>79.7960</td>\n",
       "      <td>OUT045</td>\n",
       "      <td>2002</td>\n",
       "      <td>NaN</td>\n",
       "      <td>Tier 2</td>\n",
       "      <td>Supermarket Type1</td>\n",
       "    </tr>\n",
       "  </tbody>\n",
       "</table>\n",
       "</div>"
      ],
      "text/plain": [
       "     Item_Identifier  Item_Weight Item_Fat_Content  Item_Visibility  \\\n",
       "5676           FDB58         10.5          Regular         0.013496   \n",
       "5677           FDD47          7.6          Regular         0.142991   \n",
       "5678           NCO17         10.0          Low Fat         0.073529   \n",
       "5679           FDJ26         15.3          Regular         0.000000   \n",
       "5680           FDU37          9.5          Regular         0.104720   \n",
       "\n",
       "               Item_Type  Item_MRP Outlet_Identifier  \\\n",
       "5676         Snack Foods  141.3154            OUT046   \n",
       "5677       Starchy Foods  169.1448            OUT018   \n",
       "5678  Health and Hygiene  118.7440            OUT045   \n",
       "5679              Canned  214.6218            OUT017   \n",
       "5680              Canned   79.7960            OUT045   \n",
       "\n",
       "      Outlet_Establishment_Year Outlet_Size Outlet_Location_Type  \\\n",
       "5676                       1997       Small               Tier 1   \n",
       "5677                       2009      Medium               Tier 3   \n",
       "5678                       2002         NaN               Tier 2   \n",
       "5679                       2007         NaN               Tier 2   \n",
       "5680                       2002         NaN               Tier 2   \n",
       "\n",
       "            Outlet_Type  \n",
       "5676  Supermarket Type1  \n",
       "5677  Supermarket Type2  \n",
       "5678  Supermarket Type1  \n",
       "5679  Supermarket Type1  \n",
       "5680  Supermarket Type1  "
      ]
     },
     "execution_count": 7,
     "metadata": {},
     "output_type": "execute_result"
    }
   ],
   "source": [
    "bigmarttest.tail()"
   ]
  },
  {
   "cell_type": "code",
   "execution_count": 8,
   "id": "d970d95f",
   "metadata": {},
   "outputs": [
    {
     "data": {
      "text/plain": [
       "(8523, 12)"
      ]
     },
     "execution_count": 8,
     "metadata": {},
     "output_type": "execute_result"
    }
   ],
   "source": [
    "bigmarttrain.shape"
   ]
  },
  {
   "cell_type": "code",
   "execution_count": 9,
   "id": "ca3115e2",
   "metadata": {},
   "outputs": [
    {
     "data": {
      "text/plain": [
       "Item_Identifier               object\n",
       "Item_Weight                  float64\n",
       "Item_Fat_Content              object\n",
       "Item_Visibility              float64\n",
       "Item_Type                     object\n",
       "Item_MRP                     float64\n",
       "Outlet_Identifier             object\n",
       "Outlet_Establishment_Year      int64\n",
       "Outlet_Size                   object\n",
       "Outlet_Location_Type          object\n",
       "Outlet_Type                   object\n",
       "Item_Outlet_Sales            float64\n",
       "dtype: object"
      ]
     },
     "execution_count": 9,
     "metadata": {},
     "output_type": "execute_result"
    }
   ],
   "source": [
    "bigmarttrain.dtypes"
   ]
  },
  {
   "cell_type": "code",
   "execution_count": 10,
   "id": "0799c277",
   "metadata": {},
   "outputs": [
    {
     "data": {
      "text/plain": [
       "Index(['Item_Identifier', 'Item_Weight', 'Item_Fat_Content', 'Item_Visibility',\n",
       "       'Item_Type', 'Item_MRP', 'Outlet_Identifier',\n",
       "       'Outlet_Establishment_Year', 'Outlet_Size', 'Outlet_Location_Type',\n",
       "       'Outlet_Type', 'Item_Outlet_Sales'],\n",
       "      dtype='object')"
      ]
     },
     "execution_count": 10,
     "metadata": {},
     "output_type": "execute_result"
    }
   ],
   "source": [
    "bigmarttrain.columns"
   ]
  },
  {
   "cell_type": "code",
   "execution_count": 11,
   "id": "d83ce0ed",
   "metadata": {},
   "outputs": [],
   "source": [
    "# Data preprocessing  or feature engineering\n",
    "# 1) Check for Duplicate variables might have same name or different\n",
    "# name. Inspection of variables. Same min, max, mean, median, Q1, Q2,\n",
    "# write a for loop\n",
    "\n",
    "# 2) Single Value Variables. whole column has same value like 0 or 1\n",
    "# Y, etc.\n",
    "\n",
    "# 3) Missing Values imputation - By default python will impute null\n",
    "# cells with NaN or NA.\n",
    "# a) Drop the missing value rows. if NA are less than 1% and large\n",
    "# data avaialable\n",
    "# b) If the variable has >70% missing values then impute with word\n",
    "# \"missing\" or \"Not Available\"\n",
    "# c) If less than 70% missing values then manual imputation can be\n",
    "# done\n",
    "# Numeric Variable - Mean or Median ; Categorical - Mode or Most Frequent\n",
    "# Manual imputation doesnot take into consideration impact of other\n",
    "# independent variables for imputation.\n",
    "# d) Algorithm based Missing Value imputation\n",
    "# 1) Multivariate Imputation using Chained Equations(MICE) - Impute\n",
    "# simultaneously both numeric and non numeric Variables.\n",
    "# 2) KNN Imputer - K Nearest Neighbors Algorithm is used for \n",
    "# missing value imputation. KNN uses Euclidean distance and imputes\n",
    "# with closest distance.\n",
    "# 3) Probabilistic PCA - Principal Component Analysis algorithm \n",
    "# is used for imputation\n",
    "\n",
    "# 4) Data Transformation - Transformation of independent and \n",
    "# dependent variables.\n",
    "# a) Dependent Variable:\n",
    "# Positive Skewness - Logarthmic Transformation or \n",
    "# Square Root Transformation\n",
    "# Negative Skewness - Exponential Transformation or\n",
    "# Power Transformation\n",
    "# b) Independent Variables - Transformation needed if they are in\n",
    "# different mathematical units or highly skewed\n",
    "# 1) Standarad Scaler - Z Score = (x-mean)/std deviation. Standard\n",
    "# Scaler will give both negative and positive values\n",
    "# 2) Min-Max Scaler - (X-Xmin)/(Xmax-Xmin) - Min_Max scaler will\n",
    "# scale all observations in the range of 0 to 1 without negative\n",
    "# values.\n",
    "\n",
    "# 5) Correction of duplicate levels in categorical variables. \n",
    "# Gender - Male, m, M, male, MALE\n",
    "\n",
    "# 6) Dummy Variable Encoding - Assigning Numeric identifiers to the\n",
    "# classes or levels in categorical data.\n",
    "# a) Label Encoding - Encode in the Same Column and overwrite column\n",
    "# Gender - M, F, F, F, M, M, M, M\n",
    "# Gender - 1, 0, 0, 0, 1, 1, 1, 1\n",
    "# b) pd.get_dummies - Create new columns based on number of classes or\n",
    "# levels and does binary encoding (No-0 & Yes-1)\n",
    "# Gender   - M, F, F, F, M, M, M, M\n",
    "# Gender_M - 1, 0, 0, 0, 1, 1, 1, 1\n",
    "# Gender_F - 0, 1, 1, 1, 0, 0, 0, 0\n",
    "\n",
    "# 7) Create new variables from existing variables\n",
    "# 8) Dealing with Dates. Dates by default are read as object and\n",
    "# dates must be converted into datetime[ns] format\n",
    "# 9) Extracting information from date like year, month, day of week,\n",
    "# quarter, ismonthstart, etc.\n",
    "# 10) Dimensionality Reduction or Reducing the number of variables"
   ]
  },
  {
   "cell_type": "code",
   "execution_count": 12,
   "id": "598a898f",
   "metadata": {},
   "outputs": [
    {
     "data": {
      "text/plain": [
       "Outlet_Size                  2410\n",
       "Item_Weight                  1463\n",
       "Item_Identifier                 0\n",
       "Item_Fat_Content                0\n",
       "Item_Visibility                 0\n",
       "Item_Type                       0\n",
       "Item_MRP                        0\n",
       "Outlet_Identifier               0\n",
       "Outlet_Establishment_Year       0\n",
       "Outlet_Location_Type            0\n",
       "Outlet_Type                     0\n",
       "Item_Outlet_Sales               0\n",
       "dtype: int64"
      ]
     },
     "execution_count": 12,
     "metadata": {},
     "output_type": "execute_result"
    }
   ],
   "source": [
    "bigmarttrain.isnull().sum().sort_values(ascending=False)#Identify NA"
   ]
  },
  {
   "cell_type": "code",
   "execution_count": 13,
   "id": "00f0ab76",
   "metadata": {},
   "outputs": [
    {
     "data": {
      "text/plain": [
       "Outlet_Size                  1606\n",
       "Item_Weight                   976\n",
       "Item_Identifier                 0\n",
       "Item_Fat_Content                0\n",
       "Item_Visibility                 0\n",
       "Item_Type                       0\n",
       "Item_MRP                        0\n",
       "Outlet_Identifier               0\n",
       "Outlet_Establishment_Year       0\n",
       "Outlet_Location_Type            0\n",
       "Outlet_Type                     0\n",
       "dtype: int64"
      ]
     },
     "execution_count": 13,
     "metadata": {},
     "output_type": "execute_result"
    }
   ],
   "source": [
    "bigmarttest.isnull().sum().sort_values(ascending=False)"
   ]
  },
  {
   "cell_type": "code",
   "execution_count": 14,
   "id": "9b3ded4f",
   "metadata": {},
   "outputs": [
    {
     "name": "stdout",
     "output_type": "stream",
     "text": [
      "(8523, 12)\n",
      "(5681, 11)\n"
     ]
    }
   ],
   "source": [
    "print(bigmarttrain.shape)\n",
    "print(bigmarttest.shape)"
   ]
  },
  {
   "cell_type": "code",
   "execution_count": 15,
   "id": "bc7d91bc",
   "metadata": {},
   "outputs": [],
   "source": [
    "# Add dependentvariable to test data for concatenation of dataframes\n",
    "bigmarttest['Item_Outlet_Sales']='test'"
   ]
  },
  {
   "cell_type": "code",
   "execution_count": 16,
   "id": "530fdec5",
   "metadata": {},
   "outputs": [],
   "source": [
    "# Row wise concatenation - Paste all rows of train data first and\n",
    "# below paste all rows of test data\n",
    "combinedf=pd.concat([bigmarttrain,bigmarttest],axis=0)\n",
    "# axis=0 is Row concatenation\n",
    "# axis=1 is Column Concatenation"
   ]
  },
  {
   "cell_type": "code",
   "execution_count": 17,
   "id": "5923870e",
   "metadata": {},
   "outputs": [
    {
     "data": {
      "text/plain": [
       "(14204, 12)"
      ]
     },
     "execution_count": 17,
     "metadata": {},
     "output_type": "execute_result"
    }
   ],
   "source": [
    "combinedf.shape"
   ]
  },
  {
   "cell_type": "code",
   "execution_count": 18,
   "id": "633f2d57",
   "metadata": {},
   "outputs": [
    {
     "data": {
      "text/plain": [
       "Medium    4655\n",
       "NaN       4016\n",
       "Small     3980\n",
       "High      1553\n",
       "Name: Outlet_Size, dtype: int64"
      ]
     },
     "execution_count": 18,
     "metadata": {},
     "output_type": "execute_result"
    }
   ],
   "source": [
    "combinedf.Outlet_Size.value_counts(dropna=False)"
   ]
  },
  {
   "cell_type": "code",
   "execution_count": 19,
   "id": "88c825e3",
   "metadata": {},
   "outputs": [],
   "source": [
    "combinedf.Outlet_Size=combinedf.Outlet_Size.fillna(\"Missing\")"
   ]
  },
  {
   "cell_type": "code",
   "execution_count": 20,
   "id": "7478130d",
   "metadata": {},
   "outputs": [
    {
     "data": {
      "text/plain": [
       "count    11765.000000\n",
       "mean        12.792854\n",
       "std          4.652502\n",
       "min          4.555000\n",
       "25%          8.710000\n",
       "50%         12.600000\n",
       "75%         16.750000\n",
       "max         21.350000\n",
       "Name: Item_Weight, dtype: float64"
      ]
     },
     "execution_count": 20,
     "metadata": {},
     "output_type": "execute_result"
    }
   ],
   "source": [
    "combinedf.Item_Weight.describe()"
   ]
  },
  {
   "cell_type": "code",
   "execution_count": 21,
   "id": "5e0201fc",
   "metadata": {},
   "outputs": [],
   "source": [
    "combinedf.Item_Weight=combinedf.Item_Weight.fillna(\n",
    "combinedf.Item_Weight.mean()) # mean Imputation"
   ]
  },
  {
   "cell_type": "code",
   "execution_count": 22,
   "id": "54312897",
   "metadata": {},
   "outputs": [
    {
     "data": {
      "text/plain": [
       "Index(['Item_Identifier', 'Item_Weight', 'Item_Fat_Content', 'Item_Visibility',\n",
       "       'Item_Type', 'Item_MRP', 'Outlet_Identifier',\n",
       "       'Outlet_Establishment_Year', 'Outlet_Size', 'Outlet_Location_Type',\n",
       "       'Outlet_Type', 'Item_Outlet_Sales'],\n",
       "      dtype='object')"
      ]
     },
     "execution_count": 22,
     "metadata": {},
     "output_type": "execute_result"
    }
   ],
   "source": [
    "combinedf.columns"
   ]
  },
  {
   "cell_type": "code",
   "execution_count": 23,
   "id": "1cdd6da1",
   "metadata": {},
   "outputs": [
    {
     "data": {
      "text/plain": [
       "0    FDA15\n",
       "1    DRC01\n",
       "2    FDN15\n",
       "3    FDX07\n",
       "4    NCD19\n",
       "Name: Item_Identifier, dtype: object"
      ]
     },
     "execution_count": 23,
     "metadata": {},
     "output_type": "execute_result"
    }
   ],
   "source": [
    "combinedf.Item_Identifier.head()"
   ]
  },
  {
   "cell_type": "code",
   "execution_count": 24,
   "id": "70cf718f",
   "metadata": {},
   "outputs": [],
   "source": [
    "combinedf['Item_Code']=combinedf.Item_Identifier.apply(\n",
    "lambda x:x[0:2])"
   ]
  },
  {
   "cell_type": "code",
   "execution_count": 25,
   "id": "8b0d953f",
   "metadata": {},
   "outputs": [
    {
     "data": {
      "text/plain": [
       "FD    10201\n",
       "NC     2686\n",
       "DR     1317\n",
       "Name: Item_Code, dtype: int64"
      ]
     },
     "execution_count": 25,
     "metadata": {},
     "output_type": "execute_result"
    }
   ],
   "source": [
    "combinedf.Item_Code.value_counts()"
   ]
  },
  {
   "cell_type": "code",
   "execution_count": 26,
   "id": "c979503d",
   "metadata": {},
   "outputs": [
    {
     "data": {
      "text/plain": [
       "Low Fat    8485\n",
       "Regular    4824\n",
       "LF          522\n",
       "reg         195\n",
       "low fat     178\n",
       "Name: Item_Fat_Content, dtype: int64"
      ]
     },
     "execution_count": 26,
     "metadata": {},
     "output_type": "execute_result"
    }
   ],
   "source": [
    "combinedf.Item_Fat_Content.value_counts()"
   ]
  },
  {
   "cell_type": "code",
   "execution_count": 27,
   "id": "96a709c1",
   "metadata": {},
   "outputs": [],
   "source": [
    "combinedf.Item_Fat_Content=combinedf.Item_Fat_Content.replace(\n",
    "['LF','low fat'],'Low Fat')"
   ]
  },
  {
   "cell_type": "code",
   "execution_count": 28,
   "id": "d63c2181",
   "metadata": {},
   "outputs": [],
   "source": [
    "combinedf.Item_Fat_Content=combinedf.Item_Fat_Content.replace(\n",
    "'reg','Regular')"
   ]
  },
  {
   "cell_type": "code",
   "execution_count": 29,
   "id": "15b6bab5",
   "metadata": {},
   "outputs": [
    {
     "data": {
      "text/plain": [
       "count    14204.000000\n",
       "mean         0.065953\n",
       "std          0.051459\n",
       "min          0.000000\n",
       "25%          0.027036\n",
       "50%          0.054021\n",
       "75%          0.094037\n",
       "max          0.328391\n",
       "Name: Item_Visibility, dtype: float64"
      ]
     },
     "execution_count": 29,
     "metadata": {},
     "output_type": "execute_result"
    }
   ],
   "source": [
    "combinedf.Item_Visibility.describe()"
   ]
  },
  {
   "cell_type": "code",
   "execution_count": 30,
   "id": "c3d91153",
   "metadata": {},
   "outputs": [
    {
     "data": {
      "text/plain": [
       "count    14204.000000\n",
       "mean       141.004977\n",
       "std         62.086938\n",
       "min         31.290000\n",
       "25%         94.012000\n",
       "50%        142.247000\n",
       "75%        185.855600\n",
       "max        266.888400\n",
       "Name: Item_MRP, dtype: float64"
      ]
     },
     "execution_count": 30,
     "metadata": {},
     "output_type": "execute_result"
    }
   ],
   "source": [
    "combinedf.Item_MRP.describe()"
   ]
  },
  {
   "cell_type": "code",
   "execution_count": 31,
   "id": "441cb22e",
   "metadata": {},
   "outputs": [
    {
     "data": {
      "text/plain": [
       "OUT027    1559\n",
       "OUT013    1553\n",
       "OUT049    1550\n",
       "OUT046    1550\n",
       "OUT035    1550\n",
       "OUT045    1548\n",
       "OUT018    1546\n",
       "OUT017    1543\n",
       "OUT010     925\n",
       "OUT019     880\n",
       "Name: Outlet_Identifier, dtype: int64"
      ]
     },
     "execution_count": 31,
     "metadata": {},
     "output_type": "execute_result"
    }
   ],
   "source": [
    "combinedf.Outlet_Identifier.value_counts()"
   ]
  },
  {
   "cell_type": "code",
   "execution_count": 32,
   "id": "6e1ffbf1",
   "metadata": {},
   "outputs": [],
   "source": [
    "# Calculate Outlet_Age from Outlet_Establishment_Year as of 2021\n",
    "combinedf['Outlet_Age']=2021-combinedf.Outlet_Establishment_Year"
   ]
  },
  {
   "cell_type": "code",
   "execution_count": 33,
   "id": "16291100",
   "metadata": {},
   "outputs": [
    {
     "data": {
      "text/plain": [
       "count    14204.000000\n",
       "mean        23.169319\n",
       "std          8.371664\n",
       "min         12.000000\n",
       "25%         17.000000\n",
       "50%         22.000000\n",
       "75%         34.000000\n",
       "max         36.000000\n",
       "Name: Outlet_Age, dtype: float64"
      ]
     },
     "execution_count": 33,
     "metadata": {},
     "output_type": "execute_result"
    }
   ],
   "source": [
    "combinedf.Outlet_Age.describe()"
   ]
  },
  {
   "cell_type": "code",
   "execution_count": 34,
   "id": "8e78ee28",
   "metadata": {},
   "outputs": [
    {
     "data": {
      "text/plain": [
       "Tier 3    5583\n",
       "Tier 2    4641\n",
       "Tier 1    3980\n",
       "Name: Outlet_Location_Type, dtype: int64"
      ]
     },
     "execution_count": 34,
     "metadata": {},
     "output_type": "execute_result"
    }
   ],
   "source": [
    "combinedf.Outlet_Location_Type.value_counts()"
   ]
  },
  {
   "cell_type": "code",
   "execution_count": 35,
   "id": "35fcb7ee",
   "metadata": {},
   "outputs": [
    {
     "data": {
      "text/plain": [
       "Supermarket Type1    9294\n",
       "Grocery Store        1805\n",
       "Supermarket Type3    1559\n",
       "Supermarket Type2    1546\n",
       "Name: Outlet_Type, dtype: int64"
      ]
     },
     "execution_count": 35,
     "metadata": {},
     "output_type": "execute_result"
    }
   ],
   "source": [
    "combinedf.Outlet_Type.value_counts()"
   ]
  },
  {
   "cell_type": "code",
   "execution_count": 36,
   "id": "3ff73196",
   "metadata": {},
   "outputs": [
    {
     "data": {
      "text/plain": [
       "Item_Identifier               object\n",
       "Item_Weight                  float64\n",
       "Item_Fat_Content              object\n",
       "Item_Visibility              float64\n",
       "Item_Type                     object\n",
       "Item_MRP                     float64\n",
       "Outlet_Identifier             object\n",
       "Outlet_Establishment_Year      int64\n",
       "Outlet_Size                   object\n",
       "Outlet_Location_Type          object\n",
       "Outlet_Type                   object\n",
       "Item_Outlet_Sales             object\n",
       "Item_Code                     object\n",
       "Outlet_Age                     int64\n",
       "dtype: object"
      ]
     },
     "execution_count": 36,
     "metadata": {},
     "output_type": "execute_result"
    }
   ],
   "source": [
    "combinedf.dtypes"
   ]
  },
  {
   "cell_type": "code",
   "execution_count": 37,
   "id": "846b88e9",
   "metadata": {},
   "outputs": [],
   "source": [
    "combinedf=combinedf.drop(['Item_Identifier',\n",
    "                          'Outlet_Establishment_Year'],axis=1)"
   ]
  },
  {
   "cell_type": "code",
   "execution_count": 38,
   "id": "97b7a556",
   "metadata": {},
   "outputs": [],
   "source": [
    "# Split Data into nuemric & object data\n",
    "numcols=combinedf.select_dtypes(include=np.number)\n",
    "objectcols=combinedf.select_dtypes(include=['object'])"
   ]
  },
  {
   "cell_type": "code",
   "execution_count": 39,
   "id": "0b031d49",
   "metadata": {},
   "outputs": [
    {
     "name": "stdout",
     "output_type": "stream",
     "text": [
      "(14204, 4)\n",
      "(14204, 8)\n"
     ]
    }
   ],
   "source": [
    "print(numcols.shape)\n",
    "print(objectcols.shape)"
   ]
  },
  {
   "cell_type": "code",
   "execution_count": 40,
   "id": "171f912c",
   "metadata": {},
   "outputs": [],
   "source": [
    "# Move Item_Outlet_Sales from object to Numeric. Since it contains\n",
    "# text values 'test' it is showing as object.\n",
    "numcols['Item_Outlet_Sales']=objectcols.Item_Outlet_Sales"
   ]
  },
  {
   "cell_type": "code",
   "execution_count": 41,
   "id": "f5037a0e",
   "metadata": {},
   "outputs": [],
   "source": [
    "objectcols=objectcols.drop('Item_Outlet_Sales',axis=1)"
   ]
  },
  {
   "cell_type": "code",
   "execution_count": 42,
   "id": "6ec32137",
   "metadata": {},
   "outputs": [],
   "source": [
    "from sklearn.preprocessing import LabelEncoder"
   ]
  },
  {
   "cell_type": "code",
   "execution_count": 43,
   "id": "3c00c943",
   "metadata": {},
   "outputs": [],
   "source": [
    "le=LabelEncoder()"
   ]
  },
  {
   "cell_type": "code",
   "execution_count": 44,
   "id": "bbfe7f7c",
   "metadata": {},
   "outputs": [],
   "source": [
    "objectcolsencode=objectcols.apply(le.fit_transform)"
   ]
  },
  {
   "cell_type": "code",
   "execution_count": 45,
   "id": "2d499e76",
   "metadata": {},
   "outputs": [
    {
     "data": {
      "text/html": [
       "<div>\n",
       "<style scoped>\n",
       "    .dataframe tbody tr th:only-of-type {\n",
       "        vertical-align: middle;\n",
       "    }\n",
       "\n",
       "    .dataframe tbody tr th {\n",
       "        vertical-align: top;\n",
       "    }\n",
       "\n",
       "    .dataframe thead th {\n",
       "        text-align: right;\n",
       "    }\n",
       "</style>\n",
       "<table border=\"1\" class=\"dataframe\">\n",
       "  <thead>\n",
       "    <tr style=\"text-align: right;\">\n",
       "      <th></th>\n",
       "      <th>Item_Fat_Content</th>\n",
       "      <th>Item_Type</th>\n",
       "      <th>Outlet_Identifier</th>\n",
       "      <th>Outlet_Size</th>\n",
       "      <th>Outlet_Location_Type</th>\n",
       "      <th>Outlet_Type</th>\n",
       "      <th>Item_Code</th>\n",
       "    </tr>\n",
       "  </thead>\n",
       "  <tbody>\n",
       "    <tr>\n",
       "      <th>0</th>\n",
       "      <td>Low Fat</td>\n",
       "      <td>Dairy</td>\n",
       "      <td>OUT049</td>\n",
       "      <td>Medium</td>\n",
       "      <td>Tier 1</td>\n",
       "      <td>Supermarket Type1</td>\n",
       "      <td>FD</td>\n",
       "    </tr>\n",
       "    <tr>\n",
       "      <th>1</th>\n",
       "      <td>Regular</td>\n",
       "      <td>Soft Drinks</td>\n",
       "      <td>OUT018</td>\n",
       "      <td>Medium</td>\n",
       "      <td>Tier 3</td>\n",
       "      <td>Supermarket Type2</td>\n",
       "      <td>DR</td>\n",
       "    </tr>\n",
       "  </tbody>\n",
       "</table>\n",
       "</div>"
      ],
      "text/plain": [
       "  Item_Fat_Content    Item_Type Outlet_Identifier Outlet_Size  \\\n",
       "0          Low Fat        Dairy            OUT049      Medium   \n",
       "1          Regular  Soft Drinks            OUT018      Medium   \n",
       "\n",
       "  Outlet_Location_Type        Outlet_Type Item_Code  \n",
       "0               Tier 1  Supermarket Type1        FD  \n",
       "1               Tier 3  Supermarket Type2        DR  "
      ]
     },
     "execution_count": 45,
     "metadata": {},
     "output_type": "execute_result"
    }
   ],
   "source": [
    "objectcols.head(2)"
   ]
  },
  {
   "cell_type": "code",
   "execution_count": 46,
   "id": "ace4dfaa",
   "metadata": {},
   "outputs": [
    {
     "data": {
      "text/html": [
       "<div>\n",
       "<style scoped>\n",
       "    .dataframe tbody tr th:only-of-type {\n",
       "        vertical-align: middle;\n",
       "    }\n",
       "\n",
       "    .dataframe tbody tr th {\n",
       "        vertical-align: top;\n",
       "    }\n",
       "\n",
       "    .dataframe thead th {\n",
       "        text-align: right;\n",
       "    }\n",
       "</style>\n",
       "<table border=\"1\" class=\"dataframe\">\n",
       "  <thead>\n",
       "    <tr style=\"text-align: right;\">\n",
       "      <th></th>\n",
       "      <th>Item_Fat_Content</th>\n",
       "      <th>Item_Type</th>\n",
       "      <th>Outlet_Identifier</th>\n",
       "      <th>Outlet_Size</th>\n",
       "      <th>Outlet_Location_Type</th>\n",
       "      <th>Outlet_Type</th>\n",
       "      <th>Item_Code</th>\n",
       "    </tr>\n",
       "  </thead>\n",
       "  <tbody>\n",
       "    <tr>\n",
       "      <th>0</th>\n",
       "      <td>0</td>\n",
       "      <td>4</td>\n",
       "      <td>9</td>\n",
       "      <td>1</td>\n",
       "      <td>0</td>\n",
       "      <td>1</td>\n",
       "      <td>1</td>\n",
       "    </tr>\n",
       "    <tr>\n",
       "      <th>1</th>\n",
       "      <td>1</td>\n",
       "      <td>14</td>\n",
       "      <td>3</td>\n",
       "      <td>1</td>\n",
       "      <td>2</td>\n",
       "      <td>2</td>\n",
       "      <td>0</td>\n",
       "    </tr>\n",
       "  </tbody>\n",
       "</table>\n",
       "</div>"
      ],
      "text/plain": [
       "   Item_Fat_Content  Item_Type  Outlet_Identifier  Outlet_Size  \\\n",
       "0                 0          4                  9            1   \n",
       "1                 1         14                  3            1   \n",
       "\n",
       "   Outlet_Location_Type  Outlet_Type  Item_Code  \n",
       "0                     0            1          1  \n",
       "1                     2            2          0  "
      ]
     },
     "execution_count": 46,
     "metadata": {},
     "output_type": "execute_result"
    }
   ],
   "source": [
    "objectcolsencode.head(2)"
   ]
  },
  {
   "cell_type": "code",
   "execution_count": 47,
   "id": "6a2e612c",
   "metadata": {},
   "outputs": [],
   "source": [
    "objectcolsdummy=pd.get_dummies(objectcols)"
   ]
  },
  {
   "cell_type": "code",
   "execution_count": 48,
   "id": "e1b4acc2",
   "metadata": {},
   "outputs": [
    {
     "data": {
      "text/html": [
       "<div>\n",
       "<style scoped>\n",
       "    .dataframe tbody tr th:only-of-type {\n",
       "        vertical-align: middle;\n",
       "    }\n",
       "\n",
       "    .dataframe tbody tr th {\n",
       "        vertical-align: top;\n",
       "    }\n",
       "\n",
       "    .dataframe thead th {\n",
       "        text-align: right;\n",
       "    }\n",
       "</style>\n",
       "<table border=\"1\" class=\"dataframe\">\n",
       "  <thead>\n",
       "    <tr style=\"text-align: right;\">\n",
       "      <th></th>\n",
       "      <th>Item_Fat_Content_Low Fat</th>\n",
       "      <th>Item_Fat_Content_Regular</th>\n",
       "      <th>Item_Type_Baking Goods</th>\n",
       "      <th>Item_Type_Breads</th>\n",
       "      <th>Item_Type_Breakfast</th>\n",
       "      <th>Item_Type_Canned</th>\n",
       "      <th>Item_Type_Dairy</th>\n",
       "      <th>Item_Type_Frozen Foods</th>\n",
       "      <th>Item_Type_Fruits and Vegetables</th>\n",
       "      <th>Item_Type_Hard Drinks</th>\n",
       "      <th>...</th>\n",
       "      <th>Outlet_Location_Type_Tier 1</th>\n",
       "      <th>Outlet_Location_Type_Tier 2</th>\n",
       "      <th>Outlet_Location_Type_Tier 3</th>\n",
       "      <th>Outlet_Type_Grocery Store</th>\n",
       "      <th>Outlet_Type_Supermarket Type1</th>\n",
       "      <th>Outlet_Type_Supermarket Type2</th>\n",
       "      <th>Outlet_Type_Supermarket Type3</th>\n",
       "      <th>Item_Code_DR</th>\n",
       "      <th>Item_Code_FD</th>\n",
       "      <th>Item_Code_NC</th>\n",
       "    </tr>\n",
       "  </thead>\n",
       "  <tbody>\n",
       "    <tr>\n",
       "      <th>0</th>\n",
       "      <td>1</td>\n",
       "      <td>0</td>\n",
       "      <td>0</td>\n",
       "      <td>0</td>\n",
       "      <td>0</td>\n",
       "      <td>0</td>\n",
       "      <td>1</td>\n",
       "      <td>0</td>\n",
       "      <td>0</td>\n",
       "      <td>0</td>\n",
       "      <td>...</td>\n",
       "      <td>1</td>\n",
       "      <td>0</td>\n",
       "      <td>0</td>\n",
       "      <td>0</td>\n",
       "      <td>1</td>\n",
       "      <td>0</td>\n",
       "      <td>0</td>\n",
       "      <td>0</td>\n",
       "      <td>1</td>\n",
       "      <td>0</td>\n",
       "    </tr>\n",
       "    <tr>\n",
       "      <th>1</th>\n",
       "      <td>0</td>\n",
       "      <td>1</td>\n",
       "      <td>0</td>\n",
       "      <td>0</td>\n",
       "      <td>0</td>\n",
       "      <td>0</td>\n",
       "      <td>0</td>\n",
       "      <td>0</td>\n",
       "      <td>0</td>\n",
       "      <td>0</td>\n",
       "      <td>...</td>\n",
       "      <td>0</td>\n",
       "      <td>0</td>\n",
       "      <td>1</td>\n",
       "      <td>0</td>\n",
       "      <td>0</td>\n",
       "      <td>1</td>\n",
       "      <td>0</td>\n",
       "      <td>1</td>\n",
       "      <td>0</td>\n",
       "      <td>0</td>\n",
       "    </tr>\n",
       "    <tr>\n",
       "      <th>2</th>\n",
       "      <td>1</td>\n",
       "      <td>0</td>\n",
       "      <td>0</td>\n",
       "      <td>0</td>\n",
       "      <td>0</td>\n",
       "      <td>0</td>\n",
       "      <td>0</td>\n",
       "      <td>0</td>\n",
       "      <td>0</td>\n",
       "      <td>0</td>\n",
       "      <td>...</td>\n",
       "      <td>1</td>\n",
       "      <td>0</td>\n",
       "      <td>0</td>\n",
       "      <td>0</td>\n",
       "      <td>1</td>\n",
       "      <td>0</td>\n",
       "      <td>0</td>\n",
       "      <td>0</td>\n",
       "      <td>1</td>\n",
       "      <td>0</td>\n",
       "    </tr>\n",
       "    <tr>\n",
       "      <th>3</th>\n",
       "      <td>0</td>\n",
       "      <td>1</td>\n",
       "      <td>0</td>\n",
       "      <td>0</td>\n",
       "      <td>0</td>\n",
       "      <td>0</td>\n",
       "      <td>0</td>\n",
       "      <td>0</td>\n",
       "      <td>1</td>\n",
       "      <td>0</td>\n",
       "      <td>...</td>\n",
       "      <td>0</td>\n",
       "      <td>0</td>\n",
       "      <td>1</td>\n",
       "      <td>1</td>\n",
       "      <td>0</td>\n",
       "      <td>0</td>\n",
       "      <td>0</td>\n",
       "      <td>0</td>\n",
       "      <td>1</td>\n",
       "      <td>0</td>\n",
       "    </tr>\n",
       "    <tr>\n",
       "      <th>4</th>\n",
       "      <td>1</td>\n",
       "      <td>0</td>\n",
       "      <td>0</td>\n",
       "      <td>0</td>\n",
       "      <td>0</td>\n",
       "      <td>0</td>\n",
       "      <td>0</td>\n",
       "      <td>0</td>\n",
       "      <td>0</td>\n",
       "      <td>0</td>\n",
       "      <td>...</td>\n",
       "      <td>0</td>\n",
       "      <td>0</td>\n",
       "      <td>1</td>\n",
       "      <td>0</td>\n",
       "      <td>1</td>\n",
       "      <td>0</td>\n",
       "      <td>0</td>\n",
       "      <td>0</td>\n",
       "      <td>0</td>\n",
       "      <td>1</td>\n",
       "    </tr>\n",
       "  </tbody>\n",
       "</table>\n",
       "<p>5 rows × 42 columns</p>\n",
       "</div>"
      ],
      "text/plain": [
       "   Item_Fat_Content_Low Fat  Item_Fat_Content_Regular  Item_Type_Baking Goods  \\\n",
       "0                         1                         0                       0   \n",
       "1                         0                         1                       0   \n",
       "2                         1                         0                       0   \n",
       "3                         0                         1                       0   \n",
       "4                         1                         0                       0   \n",
       "\n",
       "   Item_Type_Breads  Item_Type_Breakfast  Item_Type_Canned  Item_Type_Dairy  \\\n",
       "0                 0                    0                 0                1   \n",
       "1                 0                    0                 0                0   \n",
       "2                 0                    0                 0                0   \n",
       "3                 0                    0                 0                0   \n",
       "4                 0                    0                 0                0   \n",
       "\n",
       "   Item_Type_Frozen Foods  Item_Type_Fruits and Vegetables  \\\n",
       "0                       0                                0   \n",
       "1                       0                                0   \n",
       "2                       0                                0   \n",
       "3                       0                                1   \n",
       "4                       0                                0   \n",
       "\n",
       "   Item_Type_Hard Drinks  ...  Outlet_Location_Type_Tier 1  \\\n",
       "0                      0  ...                            1   \n",
       "1                      0  ...                            0   \n",
       "2                      0  ...                            1   \n",
       "3                      0  ...                            0   \n",
       "4                      0  ...                            0   \n",
       "\n",
       "   Outlet_Location_Type_Tier 2  Outlet_Location_Type_Tier 3  \\\n",
       "0                            0                            0   \n",
       "1                            0                            1   \n",
       "2                            0                            0   \n",
       "3                            0                            1   \n",
       "4                            0                            1   \n",
       "\n",
       "   Outlet_Type_Grocery Store  Outlet_Type_Supermarket Type1  \\\n",
       "0                          0                              1   \n",
       "1                          0                              0   \n",
       "2                          0                              1   \n",
       "3                          1                              0   \n",
       "4                          0                              1   \n",
       "\n",
       "   Outlet_Type_Supermarket Type2  Outlet_Type_Supermarket Type3  Item_Code_DR  \\\n",
       "0                              0                              0             0   \n",
       "1                              1                              0             1   \n",
       "2                              0                              0             0   \n",
       "3                              0                              0             0   \n",
       "4                              0                              0             0   \n",
       "\n",
       "   Item_Code_FD  Item_Code_NC  \n",
       "0             1             0  \n",
       "1             0             0  \n",
       "2             1             0  \n",
       "3             1             0  \n",
       "4             0             1  \n",
       "\n",
       "[5 rows x 42 columns]"
      ]
     },
     "execution_count": 48,
     "metadata": {},
     "output_type": "execute_result"
    }
   ],
   "source": [
    "objectcolsdummy.head()"
   ]
  },
  {
   "cell_type": "code",
   "execution_count": 49,
   "id": "aa9d7771",
   "metadata": {},
   "outputs": [],
   "source": [
    "# Columnwise Concatenation\n",
    "combinedf_clean=pd.concat([numcols,objectcolsencode],axis=1)"
   ]
  },
  {
   "cell_type": "code",
   "execution_count": 50,
   "id": "e33b858b",
   "metadata": {},
   "outputs": [],
   "source": [
    "bigmarttraindf=combinedf_clean[\n",
    "    combinedf_clean.Item_Outlet_Sales!='test']\n",
    "bigmarttestdf=combinedf_clean[\n",
    "    combinedf_clean.Item_Outlet_Sales=='test']"
   ]
  },
  {
   "cell_type": "code",
   "execution_count": 51,
   "id": "d3eced6f",
   "metadata": {},
   "outputs": [],
   "source": [
    "bigmarttestdf=bigmarttestdf.drop('Item_Outlet_Sales',axis=1)"
   ]
  },
  {
   "cell_type": "code",
   "execution_count": 52,
   "id": "37ae9802",
   "metadata": {},
   "outputs": [
    {
     "data": {
      "text/plain": [
       "dtype('O')"
      ]
     },
     "execution_count": 52,
     "metadata": {},
     "output_type": "execute_result"
    }
   ],
   "source": [
    "bigmarttraindf.Item_Outlet_Sales.dtypes"
   ]
  },
  {
   "cell_type": "code",
   "execution_count": 53,
   "id": "705314fe",
   "metadata": {},
   "outputs": [
    {
     "name": "stderr",
     "output_type": "stream",
     "text": [
      "C:\\Users\\asus\\AppData\\Local\\Temp\\ipykernel_8900\\4289284348.py:1: SettingWithCopyWarning: \n",
      "A value is trying to be set on a copy of a slice from a DataFrame.\n",
      "Try using .loc[row_indexer,col_indexer] = value instead\n",
      "\n",
      "See the caveats in the documentation: https://pandas.pydata.org/pandas-docs/stable/user_guide/indexing.html#returning-a-view-versus-a-copy\n",
      "  bigmarttraindf.Item_Outlet_Sales=bigmarttraindf.Item_Outlet_Sales.astype('float64')\n"
     ]
    }
   ],
   "source": [
    "bigmarttraindf.Item_Outlet_Sales=bigmarttraindf.Item_Outlet_Sales.astype('float64')"
   ]
  },
  {
   "cell_type": "code",
   "execution_count": 54,
   "id": "46c17b61",
   "metadata": {},
   "outputs": [
    {
     "name": "stdout",
     "output_type": "stream",
     "text": [
      "Skew: 1.1775306028542796\n",
      "Kurt: 1.6158766814287264\n"
     ]
    },
    {
     "data": {
      "image/png": "[encoded data removed]",
      "text/plain": [
       "<Figure size 432x288 with 1 Axes>"
      ]
     },
     "metadata": {
      "needs_background": "light"
     },
     "output_type": "display_data"
    }
   ],
   "source": [
    "# Create Histogram, Boxplot and Density Curve of Item_Outlet_Sales\n",
    "bigmarttraindf.Item_Outlet_Sales.plot(kind='hist')\n",
    "# Positive Skewness & Kurtosis\n",
    "print(\"Skew:\",bigmarttraindf.Item_Outlet_Sales.skew())\n",
    "print(\"Kurt:\",bigmarttraindf.Item_Outlet_Sales.kurt())"
   ]
  },
  {
   "cell_type": "code",
   "execution_count": 55,
   "id": "4a187f36",
   "metadata": {},
   "outputs": [
    {
     "data": {
      "text/plain": [
       "<AxesSubplot:>"
      ]
     },
     "execution_count": 55,
     "metadata": {},
     "output_type": "execute_result"
    },
    {
     "data": {
      "image/png": "[encoded data removed]",
      "text/plain": [
       "<Figure size 432x288 with 1 Axes>"
      ]
     },
     "metadata": {
      "needs_background": "light"
     },
     "output_type": "display_data"
    }
   ],
   "source": [
    "bigmarttraindf.Item_Outlet_Sales.plot(kind='box',vert=False)"
   ]
  },
  {
   "cell_type": "code",
   "execution_count": 56,
   "id": "0ac74a2f",
   "metadata": {},
   "outputs": [
    {
     "data": {
      "text/plain": [
       "<AxesSubplot:ylabel='Density'>"
      ]
     },
     "execution_count": 56,
     "metadata": {},
     "output_type": "execute_result"
    },
    {
     "data": {
      "image/png": "[encoded data removed]",
      "text/plain": [
       "<Figure size 432x288 with 1 Axes>"
      ]
     },
     "metadata": {
      "needs_background": "light"
     },
     "output_type": "display_data"
    }
   ],
   "source": [
    "bigmarttraindf.Item_Outlet_Sales.plot(kind='density')"
   ]
  },
  {
   "cell_type": "code",
   "execution_count": 57,
   "id": "18ba72fe",
   "metadata": {},
   "outputs": [
    {
     "data": {
      "text/plain": [
       "<AxesSubplot:>"
      ]
     },
     "execution_count": 57,
     "metadata": {},
     "output_type": "execute_result"
    },
    {
     "data": {
      "image/png": "[encoded data removed]",
      "text/plain": [
       "<Figure size 432x288 with 1 Axes>"
      ]
     },
     "metadata": {
      "needs_background": "light"
     },
     "output_type": "display_data"
    }
   ],
   "source": [
    "np.sqrt(bigmarttraindf.Item_Outlet_Sales).plot(kind='box',vert=False)"
   ]
  },
  {
   "cell_type": "code",
   "execution_count": 58,
   "id": "a9db3882",
   "metadata": {},
   "outputs": [],
   "source": [
    "# Inferential Statistics - Hypothesis testing\n",
    "# Hypothesis testing is comparision of means or averages of or more\n",
    "# than 2 classes or levels in categorical var with a numeric variable\n",
    "\n",
    "# Relationship between 2 Numeric Variables - Covariance and Correlation\n",
    "# Relationship between One numeric variable and other categorical\n",
    "# variable - Hypothesis testing\n",
    "# Relationship between 2 Non numeric categorical variables.\n",
    "\n",
    "# Fundamental Assumtion of Hypothesis testing is means or averages\n",
    "# of classes or levels must be different. groupby()\n",
    "# Assumption of Numeric Variable must be numerical continuos,closer\n",
    "# to normal distrinution with minimum outliers and no missing values.\n",
    "\n",
    "# One Numeric variable and other variable is categrocial with \n",
    "# exactly 2 levels - 2 Sample Independent t test"
   ]
  },
  {
   "cell_type": "code",
   "execution_count": 59,
   "id": "01d9bafb",
   "metadata": {},
   "outputs": [
    {
     "data": {
      "text/plain": [
       "Item_Fat_Content\n",
       "0    2157.711534\n",
       "1    2224.561170\n",
       "Name: Item_Outlet_Sales, dtype: float64"
      ]
     },
     "execution_count": 59,
     "metadata": {},
     "output_type": "execute_result"
    }
   ],
   "source": [
    "# What is the Average Item_Outlet_Sales of different Item_Fat_Content?\n",
    "bigmarttraindf.Item_Outlet_Sales.groupby(\n",
    "    bigmarttraindf.Item_Fat_Content).mean()\n",
    "# 0 - Low fat & 1 - Regular"
   ]
  },
  {
   "cell_type": "code",
   "execution_count": 60,
   "id": "38fc0b50",
   "metadata": {},
   "outputs": [
    {
     "data": {
      "text/plain": [
       "Item_Fat_Content\n",
       "0    2.883115e+06\n",
       "1    2.963496e+06\n",
       "Name: Item_Outlet_Sales, dtype: float64"
      ]
     },
     "execution_count": 60,
     "metadata": {},
     "output_type": "execute_result"
    }
   ],
   "source": [
    "bigmarttraindf.Item_Outlet_Sales.groupby(\n",
    "    bigmarttraindf.Item_Fat_Content).var() # Unequal Variance"
   ]
  },
  {
   "cell_type": "code",
   "execution_count": 61,
   "id": "6ed4d99b",
   "metadata": {},
   "outputs": [],
   "source": [
    "# Null Hypothesis - There is no significant difference in Average\n",
    "# Item_Outlet_Sales of different Item_Fat_Content. Both means can\n",
    "# be treated equally\n",
    "# Alt Hypothesis - There is significant difference in Average\n",
    "# Item_Outlet_Sales of different Item_Fat_Content. Both means can\n",
    "# not be treated equally\n",
    "\n",
    "# Interpretation of Test output is based on p-value or probability \n",
    "# value\n",
    "# Interpretation based on p-value is REJECT NULL HYPOTHESIS or\n",
    "# FAIL TO REJECT NULL (ACCEPT) HYPOTHESIS\n",
    "# p-value is less than 0.05, REJECT NULL HYPOTHESIS\n",
    "# p-value is greater than 0.05, FAIL TO REJECT NULL HYPOHESIS\n",
    "\n",
    "# 0.05 means 5% Alpha(probable error rate) and 95% Confidence Level"
   ]
  },
  {
   "cell_type": "code",
   "execution_count": 62,
   "id": "6a2ff899",
   "metadata": {},
   "outputs": [],
   "source": [
    "# Split Data into Lowfat and regular dataframes\n",
    "lowfat=bigmarttraindf[bigmarttraindf.Item_Fat_Content==0]\n",
    "regular=bigmarttraindf[bigmarttraindf.Item_Fat_Content==1]"
   ]
  },
  {
   "cell_type": "code",
   "execution_count": 63,
   "id": "b9a8a0bd",
   "metadata": {},
   "outputs": [],
   "source": [
    "from scipy.stats import ttest_ind"
   ]
  },
  {
   "cell_type": "code",
   "execution_count": 64,
   "id": "a4c77757",
   "metadata": {},
   "outputs": [
    {
     "data": {
      "text/plain": [
       "Ttest_indResult(statistic=-1.7212101304652165, pvalue=0.08526339464728244)"
      ]
     },
     "execution_count": 64,
     "metadata": {},
     "output_type": "execute_result"
    }
   ],
   "source": [
    "ttest_ind(lowfat.Item_Outlet_Sales,regular.Item_Outlet_Sales,\n",
    "         equal_var=False)\n",
    "# Since pvalue=0.08526339464728244 is greater than 0.05, FAIL to \n",
    "# REJECT NULL. Difference in means(66.8) is statistically not\n",
    "# significant and it can be treated as non critical variable"
   ]
  },
  {
   "cell_type": "code",
   "execution_count": 65,
   "id": "109188fd",
   "metadata": {},
   "outputs": [],
   "source": [
    "# 2 Sample Independent ttest\n",
    "# a) groupby() - mean & var\n",
    "# b) Frame Null & Alt Hypothesis\n",
    "# c) Split Data into Levels or Classes\n",
    "# d) Conduct test\n",
    "# e) Interprent result on p-value"
   ]
  },
  {
   "cell_type": "code",
   "execution_count": 66,
   "id": "33f83a92",
   "metadata": {},
   "outputs": [
    {
     "data": {
      "text/plain": [
       "Item_Fat_Content\n",
       "0    0.064330\n",
       "1    0.069439\n",
       "Name: Item_Visibility, dtype: float64"
      ]
     },
     "execution_count": 66,
     "metadata": {},
     "output_type": "execute_result"
    }
   ],
   "source": [
    "# Test Null Average Item_Visibility for different Item_Fat_Content \n",
    "# equal?\n",
    "bigmarttraindf.Item_Visibility.groupby(\n",
    "    bigmarttraindf.Item_Fat_Content).mean()"
   ]
  },
  {
   "cell_type": "code",
   "execution_count": 67,
   "id": "2bc8edf4",
   "metadata": {},
   "outputs": [
    {
     "data": {
      "text/plain": [
       "Item_Fat_Content\n",
       "0    0.002619\n",
       "1    0.002726\n",
       "Name: Item_Visibility, dtype: float64"
      ]
     },
     "execution_count": 67,
     "metadata": {},
     "output_type": "execute_result"
    }
   ],
   "source": [
    "bigmarttraindf.Item_Visibility.groupby(\n",
    "    bigmarttraindf.Item_Fat_Content).var()"
   ]
  },
  {
   "cell_type": "code",
   "execution_count": 68,
   "id": "6d9c59d4",
   "metadata": {},
   "outputs": [
    {
     "data": {
      "text/plain": [
       "Ttest_indResult(statistic=-4.34668233685042, pvalue=1.404696156360228e-05)"
      ]
     },
     "execution_count": 68,
     "metadata": {},
     "output_type": "execute_result"
    }
   ],
   "source": [
    "ttest_ind(lowfat.Item_Visibility,regular.Item_Visibility,\n",
    "         equal_var=False)\n",
    "# Since pvalue=1.404696156360228e-05 is less than 0.05, REJECT NULL\n",
    "# Hypothesis. Difference in means (0.0005) is statistically\n",
    "# significant and variable is critical variable"
   ]
  },
  {
   "cell_type": "code",
   "execution_count": 69,
   "id": "cdf0a1eb",
   "metadata": {},
   "outputs": [
    {
     "data": {
      "text/plain": [
       "0.0"
      ]
     },
     "execution_count": 69,
     "metadata": {},
     "output_type": "execute_result"
    }
   ],
   "source": [
    "np.round(1.404696156360228e-05,)# 0.00001404696"
   ]
  },
  {
   "attachments": {
    "image.png": {
     "image/png": "[encoded data removed]"
    }
   },
   "cell_type": "markdown",
   "id": "fd0c82c3",
   "metadata": {},
   "source": [
    "![image.png](attachment:image.png)"
   ]
  },
  {
   "cell_type": "code",
   "execution_count": 70,
   "id": "8e336560",
   "metadata": {},
   "outputs": [
    {
     "data": {
      "text/plain": [
       "Item_Fat_Content\n",
       "0    140.714098\n",
       "1    141.504259\n",
       "Name: Item_MRP, dtype: float64"
      ]
     },
     "execution_count": 70,
     "metadata": {},
     "output_type": "execute_result"
    }
   ],
   "source": [
    "# Test Null Average MRP of different Item_Fat_Content are equal?\n",
    "bigmarttraindf.Item_MRP.groupby(\n",
    "    bigmarttraindf.Item_Fat_Content).mean()"
   ]
  },
  {
   "cell_type": "code",
   "execution_count": 71,
   "id": "f17ff85f",
   "metadata": {},
   "outputs": [
    {
     "data": {
      "text/plain": [
       "Item_Fat_Content\n",
       "0    3882.754917\n",
       "1    3870.679626\n",
       "Name: Item_MRP, dtype: float64"
      ]
     },
     "execution_count": 71,
     "metadata": {},
     "output_type": "execute_result"
    }
   ],
   "source": [
    "bigmarttraindf.Item_MRP.groupby(\n",
    "    bigmarttraindf.Item_Fat_Content).var()"
   ]
  },
  {
   "cell_type": "code",
   "execution_count": 72,
   "id": "2d07287b",
   "metadata": {},
   "outputs": [
    {
     "data": {
      "text/plain": [
       "Ttest_indResult(statistic=-0.5599289442374681, pvalue=0.5755481942929463)"
      ]
     },
     "execution_count": 72,
     "metadata": {},
     "output_type": "execute_result"
    }
   ],
   "source": [
    "ttest_ind(lowfat.Item_MRP,regular.Item_MRP,equal_var=False)\n",
    "# Since pvalue=0.5755481942929463 is greater than 0.05, FAIL to\n",
    "# REJECT NULL. Difference in means (0.80) is not significant and\n",
    "# variable is not critical"
   ]
  },
  {
   "cell_type": "code",
   "execution_count": 73,
   "id": "181d4c88",
   "metadata": {},
   "outputs": [
    {
     "data": {
      "text/plain": [
       "Outlet_Type\n",
       "0     339.828500\n",
       "1    2316.181148\n",
       "2    1995.498739\n",
       "3    3694.038558\n",
       "Name: Item_Outlet_Sales, dtype: float64"
      ]
     },
     "execution_count": 73,
     "metadata": {},
     "output_type": "execute_result"
    }
   ],
   "source": [
    "# If one variable is numerical and other variable is categorical\n",
    "# with more than 2 levels or classes - Anova Single Factor or \n",
    "# One Way Anova\n",
    "\n",
    "# Test Null Average Item_Outlet_Sales for different Outlet_Type is\n",
    "# equal\n",
    "# groupby()-mean,Null & Alt Hypo, Split Data, Conduct test, interpret\n",
    "# Interpretation ia based on p-value similar to above\n",
    "\n",
    "bigmarttraindf.Item_Outlet_Sales.groupby(\n",
    "    bigmarttraindf.Outlet_Type).mean()\n",
    "# 0- Grcery Store, 1 - Super Market Type1 , 2 - Super Market Type1\n",
    "# 3 - Super Market Type3"
   ]
  },
  {
   "cell_type": "code",
   "execution_count": 74,
   "id": "643f41b2",
   "metadata": {},
   "outputs": [
    {
     "data": {
      "text/plain": [
       "Outlet_Size\n",
       "0    2298.995256\n",
       "1    2681.603542\n",
       "2    1822.626947\n",
       "3    1912.149161\n",
       "Name: Item_Outlet_Sales, dtype: float64"
      ]
     },
     "execution_count": 74,
     "metadata": {},
     "output_type": "execute_result"
    }
   ],
   "source": [
    "bigmarttraindf.Item_Outlet_Sales.groupby(bigmarttraindf.Outlet_Size).mean()"
   ]
  },
  {
   "cell_type": "code",
   "execution_count": 75,
   "id": "51117937",
   "metadata": {},
   "outputs": [],
   "source": [
    "# Null - There is no Significant difference in Average Item outlet\n",
    "# Sales for different Outlet Type\n",
    "# Alt - There is Significant difference in Average Item outlet\n",
    "# Sales for different Outlet Type"
   ]
  },
  {
   "cell_type": "code",
   "execution_count": 76,
   "id": "bc0ad800",
   "metadata": {},
   "outputs": [],
   "source": [
    "gs=bigmarttraindf[bigmarttraindf.Outlet_Type==0]\n",
    "st1=bigmarttraindf[bigmarttraindf.Outlet_Type==1]\n",
    "st2=bigmarttraindf[bigmarttraindf.Outlet_Type==2]\n",
    "st3=bigmarttraindf[bigmarttraindf.Outlet_Type==3]"
   ]
  },
  {
   "cell_type": "code",
   "execution_count": 77,
   "id": "f68f8c79",
   "metadata": {},
   "outputs": [],
   "source": [
    "from scipy.stats import f_oneway"
   ]
  },
  {
   "cell_type": "code",
   "execution_count": 78,
   "id": "e7aa525e",
   "metadata": {},
   "outputs": [
    {
     "data": {
      "text/plain": [
       "F_onewayResult(statistic=894.6500119018012, pvalue=0.0)"
      ]
     },
     "execution_count": 78,
     "metadata": {},
     "output_type": "execute_result"
    }
   ],
   "source": [
    "f_oneway(gs.Item_Outlet_Sales,st1.Item_Outlet_Sales,\n",
    "        st2.Item_Outlet_Sales,st3.Item_Outlet_Sales)\n",
    "# Since pvalue=0.0 is less than 0.05, REJECT NULL. Difference in means\n",
    "# is statistically Significant"
   ]
  },
  {
   "cell_type": "code",
   "execution_count": 79,
   "id": "e67f6a0a",
   "metadata": {},
   "outputs": [
    {
     "data": {
      "text/plain": [
       "Outlet_Type\n",
       "0    0.104862\n",
       "1    0.060723\n",
       "2    0.061014\n",
       "3    0.058615\n",
       "Name: Item_Visibility, dtype: float64"
      ]
     },
     "execution_count": 79,
     "metadata": {},
     "output_type": "execute_result"
    }
   ],
   "source": [
    "# Test Null Average Item_Visibility of different Outlet_Type are\n",
    "# equal?\n",
    "# groupby()-mean, Null & Alt, Conduct test, interpret\n",
    "bigmarttraindf.Item_Visibility.groupby(\n",
    "    bigmarttraindf.Outlet_Type).mean()"
   ]
  },
  {
   "cell_type": "code",
   "execution_count": 80,
   "id": "8d505670",
   "metadata": {},
   "outputs": [],
   "source": [
    "# Null -There is no significant difference in Average Item_Visibility\n",
    "# of different Outlet_Type\n",
    "# Alt -There is significant difference in Average Item_Visibility\n",
    "# of different Outlet_Type"
   ]
  },
  {
   "cell_type": "code",
   "execution_count": 81,
   "id": "8588420e",
   "metadata": {},
   "outputs": [
    {
     "data": {
      "text/plain": [
       "F_onewayResult(statistic=254.30677497171652, pvalue=4.5932234924663505e-158)"
      ]
     },
     "execution_count": 81,
     "metadata": {},
     "output_type": "execute_result"
    }
   ],
   "source": [
    "f_oneway(gs.Item_Visibility,st1.Item_Visibility,\n",
    "        st2.Item_Visibility,st3.Item_Visibility)\n",
    "# Since pvalue=4.5932234924663505e-158 is less than 0.05, REJECT \n",
    "# Null. Difference in Means is Statistically Significant"
   ]
  },
  {
   "attachments": {
    "image.png": {
     "image/png": "[encoded data removed]"
    }
   },
   "cell_type": "markdown",
   "id": "e69e606f",
   "metadata": {},
   "source": [
    "![image.png](attachment:image.png)\n",
    "F = MST/MSE\n",
    "MST = SST/ p-1\n",
    "MSE = SSE/N-p\n",
    "SSE = ∑ (n−1)\n",
    " \n",
    "Where,\n",
    "\n",
    "F = Anova Coefficient\n",
    "\n",
    "MSB = Mean sum of squares between the groups\n",
    "\n",
    "MSW = Mean sum of squares within the groups\n",
    "\n",
    "MSE = Mean sum of squares due to error\n",
    "\n",
    "SST = total Sum of squares\n",
    "\n",
    "p = Total number of populations\n",
    "\n",
    "n = The total number of samples in a population\n",
    "\n",
    "SSW = Sum of squares within the groups\n",
    "\n",
    "SSB = Sum of squares between the groups\n",
    "\n",
    "SSE = Sum of squares due to error\n",
    "\n",
    "s = Standard deviation of the samples\n",
    "\n",
    "N = Total number of observations"
   ]
  },
  {
   "cell_type": "code",
   "execution_count": 82,
   "id": "e35aaa06",
   "metadata": {},
   "outputs": [],
   "source": [
    "# If one variable is numerical and Other variable is categorical\n",
    "# with exactly 2 levels but levels will be Before & After an event\n",
    "# Paired Sample t test or Related Sample ttest\n",
    "\n",
    "# Null - There is no significant difference in average value before\n",
    "# after\n",
    "# Alt - There is significant difference in average value before\n",
    "# after"
   ]
  },
  {
   "cell_type": "code",
   "execution_count": 83,
   "id": "91837b21",
   "metadata": {},
   "outputs": [],
   "source": [
    "# Test Null Average CPI of India before and after demonitization\n",
    "# is equal.\n",
    "beforedemon=[3.35,4.14,5.30,6.46,6.13,6.59,5.86,5.51,5.53,5.91,6.32,6.72]\n",
    "afterdemon=[2.59,2.23,1.86,2.62,2.62,2.21,1.09,1.08,1.79,2.52,2.89,3.24]"
   ]
  },
  {
   "cell_type": "code",
   "execution_count": 84,
   "id": "c4dc259f",
   "metadata": {},
   "outputs": [
    {
     "name": "stdout",
     "output_type": "stream",
     "text": [
      "5.651666666666667\n",
      "2.2283333333333335\n"
     ]
    }
   ],
   "source": [
    "print(np.mean(beforedemon))\n",
    "print(np.mean(afterdemon))"
   ]
  },
  {
   "cell_type": "code",
   "execution_count": 85,
   "id": "f8d3893c",
   "metadata": {},
   "outputs": [],
   "source": [
    "from scipy.stats import ttest_rel"
   ]
  },
  {
   "cell_type": "code",
   "execution_count": 86,
   "id": "a7f93767",
   "metadata": {},
   "outputs": [
    {
     "data": {
      "text/plain": [
       "Ttest_relResult(statistic=10.739765011583762, pvalue=3.607160215114515e-07)"
      ]
     },
     "execution_count": 86,
     "metadata": {},
     "output_type": "execute_result"
    }
   ],
   "source": [
    "ttest_rel(beforedemon,afterdemon)\n",
    "# Since pvalue=3.607160215114515e-07 is less than 0.05, REJECT NULL\n",
    "# Difference in means is statistically significant"
   ]
  },
  {
   "attachments": {
    "image.png": {
     "image/png": "[encoded data removed]"
    }
   },
   "cell_type": "markdown",
   "id": "fe6b7f78",
   "metadata": {},
   "source": [
    "![image.png](attachment:image.png)"
   ]
  },
  {
   "cell_type": "code",
   "execution_count": 87,
   "id": "6ccaebd7",
   "metadata": {},
   "outputs": [],
   "source": [
    "# Test Null Average CPI 12 month Before and After GST Implementation\n",
    "# equal.\n",
    "beforegst=[1.08,1.09,2.21,2.61,2.62,1.86,2.23,2.59,3.35,4.14,5.30,6.46]\n",
    "aftergst=[1.79,2.52,2.89,3.24,3.97,4.00,5.11,4.74,4.36,3.97,3.96,3.93]"
   ]
  },
  {
   "cell_type": "code",
   "execution_count": 88,
   "id": "91d8a494",
   "metadata": {},
   "outputs": [
    {
     "name": "stdout",
     "output_type": "stream",
     "text": [
      "2.9616666666666664\n",
      "3.706666666666667\n"
     ]
    }
   ],
   "source": [
    "print(np.mean(beforegst))\n",
    "print(np.mean(aftergst))"
   ]
  },
  {
   "cell_type": "code",
   "execution_count": 89,
   "id": "ab5d05d4",
   "metadata": {},
   "outputs": [],
   "source": [
    "# Null - There is no significant difference between Average CPI before \n",
    "# and after gst implementation\n",
    "# Alt - There is significant difference between Average CPI before \n",
    "# and after gst implementation"
   ]
  },
  {
   "cell_type": "code",
   "execution_count": 90,
   "id": "85784150",
   "metadata": {},
   "outputs": [
    {
     "data": {
      "text/plain": [
       "Ttest_relResult(statistic=-1.7012796926409819, pvalue=0.1169504252841088)"
      ]
     },
     "execution_count": 90,
     "metadata": {},
     "output_type": "execute_result"
    }
   ],
   "source": [
    "ttest_rel(beforegst,aftergst)\n",
    "# Since pvalue=0.1169504252841088 is greater than 0.05, FAIL to \n",
    "# REJECT NULL. Difference in means is Statistically Insignificant"
   ]
  },
  {
   "attachments": {
    "image.png": {
     "image/png": "[encoded data removed]"
    }
   },
   "cell_type": "markdown",
   "id": "61746ebc",
   "metadata": {},
   "source": [
    "![image.png](attachment:image.png)"
   ]
  },
  {
   "cell_type": "code",
   "execution_count": 91,
   "id": "1a4ca3a9",
   "metadata": {},
   "outputs": [
    {
     "data": {
      "text/html": [
       "<div>\n",
       "<style scoped>\n",
       "    .dataframe tbody tr th:only-of-type {\n",
       "        vertical-align: middle;\n",
       "    }\n",
       "\n",
       "    .dataframe tbody tr th {\n",
       "        vertical-align: top;\n",
       "    }\n",
       "\n",
       "    .dataframe thead th {\n",
       "        text-align: right;\n",
       "    }\n",
       "</style>\n",
       "<table border=\"1\" class=\"dataframe\">\n",
       "  <thead>\n",
       "    <tr style=\"text-align: right;\">\n",
       "      <th>Outlet_Size</th>\n",
       "      <th>0</th>\n",
       "      <th>1</th>\n",
       "      <th>2</th>\n",
       "      <th>3</th>\n",
       "    </tr>\n",
       "    <tr>\n",
       "      <th>Outlet_Type</th>\n",
       "      <th></th>\n",
       "      <th></th>\n",
       "      <th></th>\n",
       "      <th></th>\n",
       "    </tr>\n",
       "  </thead>\n",
       "  <tbody>\n",
       "    <tr>\n",
       "      <th>0</th>\n",
       "      <td>0</td>\n",
       "      <td>0</td>\n",
       "      <td>555</td>\n",
       "      <td>528</td>\n",
       "    </tr>\n",
       "    <tr>\n",
       "      <th>1</th>\n",
       "      <td>932</td>\n",
       "      <td>930</td>\n",
       "      <td>1855</td>\n",
       "      <td>1860</td>\n",
       "    </tr>\n",
       "    <tr>\n",
       "      <th>2</th>\n",
       "      <td>0</td>\n",
       "      <td>928</td>\n",
       "      <td>0</td>\n",
       "      <td>0</td>\n",
       "    </tr>\n",
       "    <tr>\n",
       "      <th>3</th>\n",
       "      <td>0</td>\n",
       "      <td>935</td>\n",
       "      <td>0</td>\n",
       "      <td>0</td>\n",
       "    </tr>\n",
       "  </tbody>\n",
       "</table>\n",
       "</div>"
      ],
      "text/plain": [
       "Outlet_Size    0    1     2     3\n",
       "Outlet_Type                      \n",
       "0              0    0   555   528\n",
       "1            932  930  1855  1860\n",
       "2              0  928     0     0\n",
       "3              0  935     0     0"
      ]
     },
     "execution_count": 91,
     "metadata": {},
     "output_type": "execute_result"
    }
   ],
   "source": [
    "# Both Variables are non numeric and categorical - Chi Square Test\n",
    "# of Independence\n",
    "# Input of Chi Square Test of Independence is Cross Tabulation\n",
    "# Cross tabulation is frequency table of 2 non numeric categorical\n",
    "# variables\n",
    "pd.crosstab(bigmarttraindf.Outlet_Type,bigmarttraindf.Outlet_Size)\n",
    "# Outlet_Type -  0- Grcery Store, 1 - Super Market Type1 , \n",
    "# 2 - Super Market Type1 3 - Super Market Type3\n",
    "# Outlet_Size - 0- High 1 -Medium 2- Missing 3 - Small"
   ]
  },
  {
   "cell_type": "code",
   "execution_count": 92,
   "id": "318b2ee2",
   "metadata": {},
   "outputs": [],
   "source": [
    "# Null - There is no Association/Relationship between both variables\n",
    "# Alt - There is Association/Relationship between both variables"
   ]
  },
  {
   "cell_type": "code",
   "execution_count": 93,
   "id": "94e956a1",
   "metadata": {},
   "outputs": [],
   "source": [
    "from scipy.stats import chi2_contingency"
   ]
  },
  {
   "cell_type": "code",
   "execution_count": 94,
   "id": "dcb78281",
   "metadata": {},
   "outputs": [
    {
     "data": {
      "text/plain": [
       "(5380.286956123782,\n",
       " 0.0,\n",
       " 9,\n",
       " array([[ 118.42731433,  354.90073918,  306.23372052,  303.43822598],\n",
       "        [ 609.85146075, 1827.59134108, 1576.97641675, 1562.58078141],\n",
       "        [ 101.47788337,  304.10700458,  262.40525637,  260.00985568],\n",
       "        [ 102.24334155,  306.40091517,  264.38460636,  261.97113692]]))"
      ]
     },
     "execution_count": 94,
     "metadata": {},
     "output_type": "execute_result"
    }
   ],
   "source": [
    "chi2_contingency(pd.crosstab(bigmarttraindf.Outlet_Type,\n",
    "                            bigmarttraindf.Outlet_Size))\n",
    "# Since p-value=0.0, is less than 0.05, REJECT NULL"
   ]
  },
  {
   "cell_type": "code",
   "execution_count": 95,
   "id": "fb7b1dc6",
   "metadata": {},
   "outputs": [],
   "source": [
    "# Test Null There is no Association or Relationship between \n",
    "# Outlet_Type and Outlet_Location_Type"
   ]
  },
  {
   "cell_type": "code",
   "execution_count": 96,
   "id": "7a55e37c",
   "metadata": {},
   "outputs": [
    {
     "data": {
      "text/html": [
       "<div>\n",
       "<style scoped>\n",
       "    .dataframe tbody tr th:only-of-type {\n",
       "        vertical-align: middle;\n",
       "    }\n",
       "\n",
       "    .dataframe tbody tr th {\n",
       "        vertical-align: top;\n",
       "    }\n",
       "\n",
       "    .dataframe thead th {\n",
       "        text-align: right;\n",
       "    }\n",
       "</style>\n",
       "<table border=\"1\" class=\"dataframe\">\n",
       "  <thead>\n",
       "    <tr style=\"text-align: right;\">\n",
       "      <th>Outlet_Type</th>\n",
       "      <th>0</th>\n",
       "      <th>1</th>\n",
       "      <th>2</th>\n",
       "      <th>3</th>\n",
       "    </tr>\n",
       "    <tr>\n",
       "      <th>Outlet_Location_Type</th>\n",
       "      <th></th>\n",
       "      <th></th>\n",
       "      <th></th>\n",
       "      <th></th>\n",
       "    </tr>\n",
       "  </thead>\n",
       "  <tbody>\n",
       "    <tr>\n",
       "      <th>0</th>\n",
       "      <td>528</td>\n",
       "      <td>1860</td>\n",
       "      <td>0</td>\n",
       "      <td>0</td>\n",
       "    </tr>\n",
       "    <tr>\n",
       "      <th>1</th>\n",
       "      <td>0</td>\n",
       "      <td>2785</td>\n",
       "      <td>0</td>\n",
       "      <td>0</td>\n",
       "    </tr>\n",
       "    <tr>\n",
       "      <th>2</th>\n",
       "      <td>555</td>\n",
       "      <td>932</td>\n",
       "      <td>928</td>\n",
       "      <td>935</td>\n",
       "    </tr>\n",
       "  </tbody>\n",
       "</table>\n",
       "</div>"
      ],
      "text/plain": [
       "Outlet_Type             0     1    2    3\n",
       "Outlet_Location_Type                     \n",
       "0                     528  1860    0    0\n",
       "1                       0  2785    0    0\n",
       "2                     555   932  928  935"
      ]
     },
     "execution_count": 96,
     "metadata": {},
     "output_type": "execute_result"
    }
   ],
   "source": [
    "pd.crosstab(bigmarttraindf.Outlet_Location_Type,\n",
    "            bigmarttraindf.Outlet_Type)"
   ]
  },
  {
   "cell_type": "code",
   "execution_count": 97,
   "id": "65aa9daa",
   "metadata": {},
   "outputs": [
    {
     "data": {
      "text/plain": [
       "(4725.606588766826,\n",
       " 0.0,\n",
       " 6,\n",
       " array([[ 303.43822598, 1562.58078141,  260.00985568,  261.97113692],\n",
       "        [ 353.88419571, 1822.35656459,  303.23594978,  305.52328992],\n",
       "        [ 425.67757832, 2192.062654  ,  364.75419453,  367.50557315]]))"
      ]
     },
     "execution_count": 97,
     "metadata": {},
     "output_type": "execute_result"
    }
   ],
   "source": [
    "chi2_contingency(pd.crosstab(bigmarttraindf.Outlet_Location_Type,\n",
    "            bigmarttraindf.Outlet_Type))\n",
    "# Since p-value=0 REJECT NULL"
   ]
  },
  {
   "attachments": {
    "image.png": {
     "image/png": "[encoded data removed]"
    }
   },
   "cell_type": "markdown",
   "id": "f8b1d567",
   "metadata": {},
   "source": [
    "![image.png](attachment:image.png)"
   ]
  },
  {
   "cell_type": "code",
   "execution_count": 98,
   "id": "24f84528",
   "metadata": {},
   "outputs": [],
   "source": [
    "#Machine learning is training the machine or computer on historical data and use them for making predictions on current data ot future data\n",
    "#Machine learning uses statistical methodologies but do not strictly adhere to statistical assumptions.\n",
    "\n",
    "#Machine learning - Supervised learning and unsupervised learning\n",
    "#Supervised learning - Understand data thoroughly and also know which machine learning model to implement\n",
    "#Unsupervised learning - No understanding of data and do not know which machine learning models to implement.\n",
    "\n",
    "#Supervised learning - \n",
    "# 1. Regression Techniques - Dependent varaible  (y) is numerical, continuous, closer to normal distribution with minimun outliers and no missing values\n",
    "# 2. Classification Techniques - Dependent variable (y) is non-numeric, either binary (yes/no) or mulltinomial (more than 2 levels of groups)\n"
   ]
  },
  {
   "cell_type": "code",
   "execution_count": 99,
   "id": "f16dc8a7",
   "metadata": {},
   "outputs": [],
   "source": [
    "#Supervised learning - Regression techniques - Multiple linear regression\n",
    "#Multiple linear regression explains the linear relationship between a dependent variable (y) and multiple independent variables (X).\n",
    "#Linear relationship indicated a straight line relationship.\n",
    "\n",
    "#Multiple linear regression is an equation - y = B0 + B1X1 + B2X2 + B3X3 + B4X4 + .... + BnXn + Et\n",
    "#y-Dependent variable\n",
    "#B0- intercept or constant. Point at which straight line touches y-axis\n",
    "#B1,B2,B3,B4,....,Bn- Coefficients\n",
    "#X1,X2,X3,X4,....,Xn- Independent variables\n",
    "#Et- Residual = ActualValue - Predicted Value or Error term\n",
    "\n",
    "#In MLR, we have data for y and data for all X's. We do not have the intercept and coefficients. Algorithm will solve for intercept and coefficients.\n"
   ]
  },
  {
   "cell_type": "code",
   "execution_count": 100,
   "id": "c051acbe",
   "metadata": {},
   "outputs": [],
   "source": [
    "# MLR is an parametric algorithm that has many assumptions or high bias to be met before implementing the algorithm\n",
    "# Assumptions:\n",
    "# 1. Dependent variable (y) is numeric, continuous, closer to normal distribution with minimal outliers and no missing values\n",
    "# 2. Independent variable can be both numerical, non-numerical categorical\n",
    "# 3. linearity - there must be a logical linear relationship between dependent and independent variables.\n",
    "# 4. No multi-collinerity- Multi-collinearity mean very strong correlation greater then 0.95 between variables. \n",
    "#    If multi-collinearity exists, do not include both variables, choose one among them.\n",
    "#    Variance inflation factor (VIF) greater than 2 indicates multi-collinearity among variables.\n",
    "# 5. Exogenity - Dependent variable is dependent on independent variables but not vice-versa. y is dependent on X's but X's do not depend on y.\n",
    "# 6. Sample size required is minimun 20 observations for variable.\n",
    "\n",
    "# Post model assumptions on Residuals.\n",
    "# 7. Residuals must be normally distributed: check using normal q-q plot.\n",
    "# 8. Residuals must be in homoscedatic pattern"
   ]
  },
  {
   "cell_type": "code",
   "execution_count": 101,
   "id": "b7e6b684",
   "metadata": {},
   "outputs": [],
   "source": [
    "#Interpretation of output in Python only (Non Statistical Output)\n",
    "# 1. R square must be between 0.60 - 0.95. R square explains the amount of variance occuring in the dependent variable caused by the model or independent variables.\n",
    "# 2. Intercept + Coefficients - Using which a regression equation will be built and it will used for predicting values (yhat)\n",
    "\n",
    "# Diagnostic for all Regression models.\n",
    "# Root mean square error (RMSE) - there is no fixed range but the model that has least RMSE is best fit model."
   ]
  },
  {
   "cell_type": "code",
   "execution_count": 102,
   "id": "de429a80",
   "metadata": {},
   "outputs": [
    {
     "data": {
      "text/plain": [
       "Index(['Item_Weight', 'Item_Visibility', 'Item_MRP', 'Outlet_Age',\n",
       "       'Item_Outlet_Sales', 'Item_Fat_Content', 'Item_Type',\n",
       "       'Outlet_Identifier', 'Outlet_Size', 'Outlet_Location_Type',\n",
       "       'Outlet_Type', 'Item_Code'],\n",
       "      dtype='object')"
      ]
     },
     "execution_count": 102,
     "metadata": {},
     "output_type": "execute_result"
    }
   ],
   "source": [
    "bigmarttraindf.columns"
   ]
  },
  {
   "cell_type": "code",
   "execution_count": 103,
   "id": "88053578",
   "metadata": {},
   "outputs": [
    {
     "data": {
      "text/html": [
       "<div>\n",
       "<style scoped>\n",
       "    .dataframe tbody tr th:only-of-type {\n",
       "        vertical-align: middle;\n",
       "    }\n",
       "\n",
       "    .dataframe tbody tr th {\n",
       "        vertical-align: top;\n",
       "    }\n",
       "\n",
       "    .dataframe thead th {\n",
       "        text-align: right;\n",
       "    }\n",
       "</style>\n",
       "<table border=\"1\" class=\"dataframe\">\n",
       "  <thead>\n",
       "    <tr style=\"text-align: right;\">\n",
       "      <th></th>\n",
       "      <th>Item_Weight</th>\n",
       "      <th>Item_Visibility</th>\n",
       "      <th>Item_MRP</th>\n",
       "      <th>Outlet_Age</th>\n",
       "      <th>Item_Outlet_Sales</th>\n",
       "    </tr>\n",
       "  </thead>\n",
       "  <tbody>\n",
       "    <tr>\n",
       "      <th>Item_Weight</th>\n",
       "      <td>1.000000</td>\n",
       "      <td>-0.012582</td>\n",
       "      <td>0.024806</td>\n",
       "      <td>0.004267</td>\n",
       "      <td>0.011083</td>\n",
       "    </tr>\n",
       "    <tr>\n",
       "      <th>Item_Visibility</th>\n",
       "      <td>-0.012582</td>\n",
       "      <td>1.000000</td>\n",
       "      <td>-0.001315</td>\n",
       "      <td>0.074834</td>\n",
       "      <td>-0.128625</td>\n",
       "    </tr>\n",
       "    <tr>\n",
       "      <th>Item_MRP</th>\n",
       "      <td>0.024806</td>\n",
       "      <td>-0.001315</td>\n",
       "      <td>1.000000</td>\n",
       "      <td>-0.005020</td>\n",
       "      <td>0.567574</td>\n",
       "    </tr>\n",
       "    <tr>\n",
       "      <th>Outlet_Age</th>\n",
       "      <td>0.004267</td>\n",
       "      <td>0.074834</td>\n",
       "      <td>-0.005020</td>\n",
       "      <td>1.000000</td>\n",
       "      <td>0.049135</td>\n",
       "    </tr>\n",
       "    <tr>\n",
       "      <th>Item_Outlet_Sales</th>\n",
       "      <td>0.011083</td>\n",
       "      <td>-0.128625</td>\n",
       "      <td>0.567574</td>\n",
       "      <td>0.049135</td>\n",
       "      <td>1.000000</td>\n",
       "    </tr>\n",
       "  </tbody>\n",
       "</table>\n",
       "</div>"
      ],
      "text/plain": [
       "                   Item_Weight  Item_Visibility  Item_MRP  Outlet_Age  \\\n",
       "Item_Weight           1.000000        -0.012582  0.024806    0.004267   \n",
       "Item_Visibility      -0.012582         1.000000 -0.001315    0.074834   \n",
       "Item_MRP              0.024806        -0.001315  1.000000   -0.005020   \n",
       "Outlet_Age            0.004267         0.074834 -0.005020    1.000000   \n",
       "Item_Outlet_Sales     0.011083        -0.128625  0.567574    0.049135   \n",
       "\n",
       "                   Item_Outlet_Sales  \n",
       "Item_Weight                 0.011083  \n",
       "Item_Visibility            -0.128625  \n",
       "Item_MRP                    0.567574  \n",
       "Outlet_Age                  0.049135  \n",
       "Item_Outlet_Sales           1.000000  "
      ]
     },
     "execution_count": 103,
     "metadata": {},
     "output_type": "execute_result"
    }
   ],
   "source": [
    "bigmarttraindf[['Item_Weight', 'Item_Visibility', 'Item_MRP', 'Outlet_Age','Item_Outlet_Sales']].corr()"
   ]
  },
  {
   "cell_type": "code",
   "execution_count": 104,
   "id": "abbe8e94",
   "metadata": {},
   "outputs": [],
   "source": [
    "# Split data into dependent variable y and independent variable X\n",
    "y=bigmarttraindf.Item_Outlet_Sales\n",
    "X=bigmarttraindf.drop('Item_Outlet_Sales',axis=1)"
   ]
  },
  {
   "cell_type": "code",
   "execution_count": 105,
   "id": "d2c61fe1",
   "metadata": {},
   "outputs": [
    {
     "data": {
      "text/html": [
       "<div>\n",
       "<style scoped>\n",
       "    .dataframe tbody tr th:only-of-type {\n",
       "        vertical-align: middle;\n",
       "    }\n",
       "\n",
       "    .dataframe tbody tr th {\n",
       "        vertical-align: top;\n",
       "    }\n",
       "\n",
       "    .dataframe thead th {\n",
       "        text-align: right;\n",
       "    }\n",
       "</style>\n",
       "<table border=\"1\" class=\"dataframe\">\n",
       "  <thead>\n",
       "    <tr style=\"text-align: right;\">\n",
       "      <th></th>\n",
       "      <th>Item_Weight</th>\n",
       "      <th>Item_Visibility</th>\n",
       "      <th>Item_MRP</th>\n",
       "      <th>Outlet_Age</th>\n",
       "      <th>Item_Fat_Content</th>\n",
       "      <th>Item_Type</th>\n",
       "      <th>Outlet_Identifier</th>\n",
       "      <th>Outlet_Size</th>\n",
       "      <th>Outlet_Location_Type</th>\n",
       "      <th>Outlet_Type</th>\n",
       "      <th>Item_Code</th>\n",
       "    </tr>\n",
       "  </thead>\n",
       "  <tbody>\n",
       "    <tr>\n",
       "      <th>0</th>\n",
       "      <td>9.30</td>\n",
       "      <td>0.016047</td>\n",
       "      <td>249.8092</td>\n",
       "      <td>22</td>\n",
       "      <td>0</td>\n",
       "      <td>4</td>\n",
       "      <td>9</td>\n",
       "      <td>1</td>\n",
       "      <td>0</td>\n",
       "      <td>1</td>\n",
       "      <td>1</td>\n",
       "    </tr>\n",
       "    <tr>\n",
       "      <th>1</th>\n",
       "      <td>5.92</td>\n",
       "      <td>0.019278</td>\n",
       "      <td>48.2692</td>\n",
       "      <td>12</td>\n",
       "      <td>1</td>\n",
       "      <td>14</td>\n",
       "      <td>3</td>\n",
       "      <td>1</td>\n",
       "      <td>2</td>\n",
       "      <td>2</td>\n",
       "      <td>0</td>\n",
       "    </tr>\n",
       "  </tbody>\n",
       "</table>\n",
       "</div>"
      ],
      "text/plain": [
       "   Item_Weight  Item_Visibility  Item_MRP  Outlet_Age  Item_Fat_Content  \\\n",
       "0         9.30         0.016047  249.8092          22                 0   \n",
       "1         5.92         0.019278   48.2692          12                 1   \n",
       "\n",
       "   Item_Type  Outlet_Identifier  Outlet_Size  Outlet_Location_Type  \\\n",
       "0          4                  9            1                     0   \n",
       "1         14                  3            1                     2   \n",
       "\n",
       "   Outlet_Type  Item_Code  \n",
       "0            1          1  \n",
       "1            2          0  "
      ]
     },
     "execution_count": 105,
     "metadata": {},
     "output_type": "execute_result"
    }
   ],
   "source": [
    "X.head(2)"
   ]
  },
  {
   "cell_type": "code",
   "execution_count": 106,
   "id": "a0fdddb3",
   "metadata": {},
   "outputs": [],
   "source": [
    "from sklearn.linear_model import LinearRegression"
   ]
  },
  {
   "cell_type": "code",
   "execution_count": 107,
   "id": "7389cfbb",
   "metadata": {},
   "outputs": [],
   "source": [
    "reg=LinearRegression()"
   ]
  },
  {
   "cell_type": "code",
   "execution_count": 108,
   "id": "d29f0550",
   "metadata": {},
   "outputs": [],
   "source": [
    "regmodel=reg.fit(X,y)"
   ]
  },
  {
   "cell_type": "code",
   "execution_count": 109,
   "id": "3c586ff5",
   "metadata": {},
   "outputs": [
    {
     "data": {
      "text/plain": [
       "0.5037944436324737"
      ]
     },
     "execution_count": 109,
     "metadata": {},
     "output_type": "execute_result"
    }
   ],
   "source": [
    "regmodel.score(X,y) # R square indicated underfitting as the R square is below the required threshold of 0.6-0.95"
   ]
  },
  {
   "cell_type": "code",
   "execution_count": 110,
   "id": "37677e5f",
   "metadata": {},
   "outputs": [
    {
     "data": {
      "text/plain": [
       "-891.2813496171093"
      ]
     },
     "execution_count": 110,
     "metadata": {},
     "output_type": "execute_result"
    }
   ],
   "source": [
    "regmodel.intercept_"
   ]
  },
  {
   "cell_type": "code",
   "execution_count": 111,
   "id": "f2eef8cd",
   "metadata": {},
   "outputs": [
    {
     "name": "stdout",
     "output_type": "stream",
     "text": [
      "[('Item_Weight', -0.5610054430218245), ('Item_Visibility', -1627.9687502221373), ('Item_MRP', 15.577893892771849), ('Outlet_Age', 1.3154434455145345), ('Item_Fat_Content', 54.349177940256915), ('Item_Type', -0.9336925645713626), ('Outlet_Identifier', 56.4711039987831), ('Outlet_Size', -93.01982139301317), ('Outlet_Location_Type', -122.16153062331301), ('Outlet_Type', 831.4510956704755), ('Item_Code', -18.31338473198781)]\n"
     ]
    }
   ],
   "source": [
    "print(list(zip(X.columns,regmodel.coef_)))"
   ]
  },
  {
   "cell_type": "code",
   "execution_count": 112,
   "id": "9bbe4777",
   "metadata": {},
   "outputs": [],
   "source": [
    "# Regression equation for prediction is\n",
    "# Item_Outlet_Sales = -891.28 - 0.56*Item_weight - 1627.96 * Item_Visibility + 15.57*Item_MRP + 1.31*Outlet_Age + 54.34*Item_Fat_Content\n",
    "# - 0.93*Item_Type + 56.47*Outlet_Identifier - 93.01*Outlet_Size - 122.16*Outlet_Location_Type + 831.45*Outlet_Type - 18.31*Item_Code"
   ]
  },
  {
   "cell_type": "code",
   "execution_count": 113,
   "id": "ff8fcaf9",
   "metadata": {},
   "outputs": [],
   "source": [
    "regpredict=regmodel.predict(X)"
   ]
  },
  {
   "cell_type": "code",
   "execution_count": 114,
   "id": "53fd2ed8",
   "metadata": {},
   "outputs": [],
   "source": [
    "regresidual=y-regpredict"
   ]
  },
  {
   "cell_type": "code",
   "execution_count": 115,
   "id": "95eff8c6",
   "metadata": {},
   "outputs": [
    {
     "data": {
      "text/plain": [
       "1202.019538510332"
      ]
     },
     "execution_count": 115,
     "metadata": {},
     "output_type": "execute_result"
    }
   ],
   "source": [
    "np.sqrt(np.mean(regresidual**2)) #RMSE"
   ]
  },
  {
   "cell_type": "code",
   "execution_count": 116,
   "id": "171069c4",
   "metadata": {},
   "outputs": [],
   "source": [
    "bigmarttraindf.to_csv(\"bigmarttrain.csv\") #Exporting dataframe"
   ]
  },
  {
   "cell_type": "code",
   "execution_count": 117,
   "id": "540041c2",
   "metadata": {},
   "outputs": [],
   "source": [
    "from sklearn.tree import DecisionTreeRegressor"
   ]
  },
  {
   "cell_type": "code",
   "execution_count": 118,
   "id": "2ee34a1c",
   "metadata": {},
   "outputs": [],
   "source": [
    "tree=DecisionTreeRegressor(max_depth=6)"
   ]
  },
  {
   "cell_type": "code",
   "execution_count": 119,
   "id": "b94cf220",
   "metadata": {},
   "outputs": [],
   "source": [
    "treemodel=tree.fit(X,y)"
   ]
  },
  {
   "cell_type": "code",
   "execution_count": 120,
   "id": "8831b1a8",
   "metadata": {},
   "outputs": [
    {
     "data": {
      "text/plain": [
       "0.6121883612629586"
      ]
     },
     "execution_count": 120,
     "metadata": {},
     "output_type": "execute_result"
    }
   ],
   "source": [
    "treemodel.score(X,y)"
   ]
  },
  {
   "cell_type": "code",
   "execution_count": 121,
   "id": "e87865fc",
   "metadata": {},
   "outputs": [],
   "source": [
    "from sklearn.model_selection import cross_val_score"
   ]
  },
  {
   "cell_type": "code",
   "execution_count": 122,
   "id": "6bce34e0",
   "metadata": {},
   "outputs": [
    {
     "data": {
      "text/plain": [
       "array([0.59517051, 0.57175009, 0.57200163, 0.60250444, 0.60063837])"
      ]
     },
     "execution_count": 122,
     "metadata": {},
     "output_type": "execute_result"
    }
   ],
   "source": [
    "cross_val_score(tree,X,y)"
   ]
  },
  {
   "cell_type": "code",
   "execution_count": 123,
   "id": "c22c7cfd",
   "metadata": {},
   "outputs": [
    {
     "data": {
      "text/plain": [
       "0.5884679740000001"
      ]
     },
     "execution_count": 123,
     "metadata": {},
     "output_type": "execute_result"
    }
   ],
   "source": [
    "np.mean([0.59517051, 0.57182208, 0.57209755, 0.60261136, 0.60063837])"
   ]
  },
  {
   "cell_type": "code",
   "execution_count": 124,
   "id": "f69baf49",
   "metadata": {},
   "outputs": [],
   "source": [
    "treepredict=treemodel.predict(bigmarttestdf)"
   ]
  },
  {
   "cell_type": "code",
   "execution_count": 125,
   "id": "f7f7f0dc",
   "metadata": {},
   "outputs": [],
   "source": [
    "pd.DataFrame(treepredict).to_csv(\"treepredict.csv\")"
   ]
  },
  {
   "cell_type": "code",
   "execution_count": 126,
   "id": "c872397d",
   "metadata": {},
   "outputs": [],
   "source": [
    "from sklearn.ensemble import RandomForestRegressor"
   ]
  },
  {
   "cell_type": "code",
   "execution_count": 135,
   "id": "59352f65",
   "metadata": {},
   "outputs": [],
   "source": [
    "rf=RandomForestRegressor(n_estimators=2000,max_depth=8)"
   ]
  },
  {
   "cell_type": "code",
   "execution_count": 136,
   "id": "47de6665",
   "metadata": {},
   "outputs": [],
   "source": [
    "rfmodel=rf.fit(X,y)"
   ]
  },
  {
   "cell_type": "code",
   "execution_count": 137,
   "id": "839799ce",
   "metadata": {},
   "outputs": [
    {
     "data": {
      "text/plain": [
       "0.6563226166278022"
      ]
     },
     "execution_count": 137,
     "metadata": {},
     "output_type": "execute_result"
    }
   ],
   "source": [
    "rfmodel.score(X,y)"
   ]
  },
  {
   "cell_type": "code",
   "execution_count": 138,
   "id": "a86d9f30",
   "metadata": {},
   "outputs": [
    {
     "data": {
      "text/plain": [
       "array([0.60462605, 0.57929057, 0.56988135, 0.59197875, 0.60384561])"
      ]
     },
     "execution_count": 138,
     "metadata": {},
     "output_type": "execute_result"
    }
   ],
   "source": [
    "cross_val_score(rf,X,y)"
   ]
  },
  {
   "cell_type": "code",
   "execution_count": null,
   "id": "0311b04d",
   "metadata": {},
   "outputs": [],
   "source": []
  }
 ],
 "metadata": {
  "kernelspec": {
   "display_name": "Python 3 (ipykernel)",
   "language": "python",
   "name": "python3"
  },
  "language_info": {
   "codemirror_mode": {
    "name": "ipython",
    "version": 3
   },
   "file_extension": ".py",
   "mimetype": "text/x-python",
   "name": "python",
   "nbconvert_exporter": "python",
   "pygments_lexer": "ipython3",
   "version": "3.9.12"
  }
 },
 "nbformat": 4,
 "nbformat_minor": 5
}
